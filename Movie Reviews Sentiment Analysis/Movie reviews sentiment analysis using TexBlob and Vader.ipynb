{
 "cells": [
  {
   "cell_type": "markdown",
   "id": "2bfb2cdf",
   "metadata": {},
   "source": [
    "# TextBlob and Vader Sentiment Analyzers to Classify Movie reviews\n",
    "\n",
    "This project involves classifying movie reviews based on user sentiment using two popular natural language processing tools: VADER (Valence Aware Dictionary and sEntiment Reasoner) and TextBlob. Both are rule-based sentiment analyzers designed to interpret the polarity of text data. VADER is particularly effective for analyzing sentiments expressed in social media and short texts, while TextBlob provides polarity and subjectivity scores using a lexicon-based approach. The objective is to compare the performance and results of both tools in determining whether a movie review is positive, negative, or neutral.\n",
    "\n"
   ]
  },
  {
   "cell_type": "markdown",
   "id": "151be89f",
   "metadata": {},
   "source": [
    "##  Importing Libraries:"
   ]
  },
  {
   "cell_type": "code",
   "execution_count": 1,
   "id": "c5b2b460",
   "metadata": {},
   "outputs": [],
   "source": [
    "import pandas as pd\n",
    "from textblob import TextBlob\n",
    "import nltk\n",
    "from nltk.sentiment.vader import SentimentIntensityAnalyzer"
   ]
  },
  {
   "cell_type": "markdown",
   "id": "6c198361",
   "metadata": {},
   "source": [
    "##  Loading data"
   ]
  },
  {
   "cell_type": "code",
   "execution_count": 2,
   "id": "300ae755",
   "metadata": {},
   "outputs": [
    {
     "name": "stdout",
     "output_type": "stream",
     "text": [
      "       id  sentiment                                             review\n",
      "0  5814_8          1  With all this stuff going down at the moment w...\n",
      "1  2381_9          1  \\The Classic War of the Worlds\\\" by Timothy Hi...\n",
      "2  7759_3          0  The film starts with a manager (Nicholas Bell)...\n",
      "3  3630_4          0  It must be assumed that those who praised this...\n",
      "4  9495_8          1  Superbly trashy and wondrously unpretentious 8...\n"
     ]
    }
   ],
   "source": [
    "# Path to the TSV file\n",
    "file_path = r\"C:\\Users\\sanas\\Desktop\\master\\DSC550 Datasets\\labeledTrainData.tsv\\labeledTrainData.tsv\"\n",
    "\n",
    "# Read the TSV file into a pandas DataFrame\n",
    "data = pd.read_csv(file_path, sep='\\t')\n",
    "\n",
    "# Display the first few rows of the DataFrame to check if it loaded properly\n",
    "print(data.head())"
   ]
  },
  {
   "cell_type": "markdown",
   "id": "38e99d30",
   "metadata": {},
   "source": [
    "- How many of each positive and negative reviews are there?\n"
   ]
  },
  {
   "cell_type": "code",
   "execution_count": 4,
   "id": "15bbb572",
   "metadata": {},
   "outputs": [
    {
     "name": "stdout",
     "output_type": "stream",
     "text": [
      "Number of Positive Reviews:  12500\n",
      "Number of Negative Reviews:  12500\n"
     ]
    }
   ],
   "source": [
    "# count the number of positive and negative reviews\n",
    "count_reviews = data['sentiment'].value_counts()\n",
    "# display the number of positive and negative reviews\n",
    "print(\"Number of Positive Reviews: \", count_reviews.get(1,0))\n",
    "print(\"Number of Negative Reviews: \", count_reviews.get(0,0))"
   ]
  },
  {
   "cell_type": "markdown",
   "id": "bc861bc1",
   "metadata": {},
   "source": [
    "### - Using TextBlob library to classify movie reviews\n"
   ]
  },
  {
   "cell_type": "code",
   "execution_count": 5,
   "id": "78ce15b7",
   "metadata": {},
   "outputs": [
    {
     "name": "stdout",
     "output_type": "stream",
     "text": [
      "Name: textblob\n",
      "Version: 0.18.0.post0\n",
      "Summary: Simple, Pythonic text processing. Sentiment analysis, part-of-speech tagging, noun phrase parsing, and more.\n",
      "Home-page: \n",
      "Author: \n",
      "Author-email: Steven Loria <sloria1@gmail.com>\n",
      "License: \n",
      "Location: C:\\Users\\sanas\\anaconda3\\Lib\\site-packages\n",
      "Requires: nltk\n",
      "Required-by: \n",
      "Note: you may need to restart the kernel to use updated packages.\n"
     ]
    },
    {
     "name": "stderr",
     "output_type": "stream",
     "text": [
      "WARNING: Ignoring invalid distribution ~rotobuf (C:\\Users\\sanas\\anaconda3\\Lib\\site-packages)\n"
     ]
    }
   ],
   "source": [
    "pip show textblob"
   ]
  },
  {
   "cell_type": "code",
   "execution_count": 6,
   "id": "3ca9bf22",
   "metadata": {},
   "outputs": [],
   "source": [
    "# Create a function to classify the review using TextBlob.\n",
    "def classify_sentiment(review):\n",
    "    polarity = TextBlob(review).sentiment.polarity\n",
    "    return 1 if polarity>=0 else 0"
   ]
  },
  {
   "cell_type": "code",
   "execution_count": 7,
   "id": "31942f1d",
   "metadata": {},
   "outputs": [],
   "source": [
    "# Apply the function to the review column \n",
    "data['predicted_sentiment'] = data['review'].apply(classify_sentiment)"
   ]
  },
  {
   "cell_type": "code",
   "execution_count": 8,
   "id": "86b0db23",
   "metadata": {},
   "outputs": [
    {
     "data": {
      "text/html": [
       "<div>\n",
       "<style scoped>\n",
       "    .dataframe tbody tr th:only-of-type {\n",
       "        vertical-align: middle;\n",
       "    }\n",
       "\n",
       "    .dataframe tbody tr th {\n",
       "        vertical-align: top;\n",
       "    }\n",
       "\n",
       "    .dataframe thead th {\n",
       "        text-align: right;\n",
       "    }\n",
       "</style>\n",
       "<table border=\"1\" class=\"dataframe\">\n",
       "  <thead>\n",
       "    <tr style=\"text-align: right;\">\n",
       "      <th></th>\n",
       "      <th>id</th>\n",
       "      <th>sentiment</th>\n",
       "      <th>predicted_sentiment</th>\n",
       "    </tr>\n",
       "  </thead>\n",
       "  <tbody>\n",
       "    <tr>\n",
       "      <th>0</th>\n",
       "      <td>5814_8</td>\n",
       "      <td>1</td>\n",
       "      <td>1</td>\n",
       "    </tr>\n",
       "    <tr>\n",
       "      <th>1</th>\n",
       "      <td>2381_9</td>\n",
       "      <td>1</td>\n",
       "      <td>1</td>\n",
       "    </tr>\n",
       "    <tr>\n",
       "      <th>2</th>\n",
       "      <td>7759_3</td>\n",
       "      <td>0</td>\n",
       "      <td>0</td>\n",
       "    </tr>\n",
       "    <tr>\n",
       "      <th>3</th>\n",
       "      <td>3630_4</td>\n",
       "      <td>0</td>\n",
       "      <td>1</td>\n",
       "    </tr>\n",
       "    <tr>\n",
       "      <th>4</th>\n",
       "      <td>9495_8</td>\n",
       "      <td>1</td>\n",
       "      <td>0</td>\n",
       "    </tr>\n",
       "    <tr>\n",
       "      <th>...</th>\n",
       "      <td>...</td>\n",
       "      <td>...</td>\n",
       "      <td>...</td>\n",
       "    </tr>\n",
       "    <tr>\n",
       "      <th>24995</th>\n",
       "      <td>3453_3</td>\n",
       "      <td>0</td>\n",
       "      <td>1</td>\n",
       "    </tr>\n",
       "    <tr>\n",
       "      <th>24996</th>\n",
       "      <td>5064_1</td>\n",
       "      <td>0</td>\n",
       "      <td>1</td>\n",
       "    </tr>\n",
       "    <tr>\n",
       "      <th>24997</th>\n",
       "      <td>10905_3</td>\n",
       "      <td>0</td>\n",
       "      <td>1</td>\n",
       "    </tr>\n",
       "    <tr>\n",
       "      <th>24998</th>\n",
       "      <td>10194_3</td>\n",
       "      <td>0</td>\n",
       "      <td>1</td>\n",
       "    </tr>\n",
       "    <tr>\n",
       "      <th>24999</th>\n",
       "      <td>8478_8</td>\n",
       "      <td>1</td>\n",
       "      <td>1</td>\n",
       "    </tr>\n",
       "  </tbody>\n",
       "</table>\n",
       "<p>25000 rows × 3 columns</p>\n",
       "</div>"
      ],
      "text/plain": [
       "            id  sentiment  predicted_sentiment\n",
       "0       5814_8          1                    1\n",
       "1       2381_9          1                    1\n",
       "2       7759_3          0                    0\n",
       "3       3630_4          0                    1\n",
       "4       9495_8          1                    0\n",
       "...        ...        ...                  ...\n",
       "24995   3453_3          0                    1\n",
       "24996   5064_1          0                    1\n",
       "24997  10905_3          0                    1\n",
       "24998  10194_3          0                    1\n",
       "24999   8478_8          1                    1\n",
       "\n",
       "[25000 rows x 3 columns]"
      ]
     },
     "execution_count": 8,
     "metadata": {},
     "output_type": "execute_result"
    }
   ],
   "source": [
    "# Display the columns (id, sentiment, predicted_sentiment)\n",
    "data[['id', 'sentiment', 'predicted_sentiment']]"
   ]
  },
  {
   "cell_type": "markdown",
   "id": "9afdf9ce",
   "metadata": {},
   "source": [
    " - Now, let's Check the accuracy of the TextBlob sentiment analyser and compare it to random guessing."
   ]
  },
  {
   "cell_type": "code",
   "execution_count": 14,
   "id": "a5d99644",
   "metadata": {},
   "outputs": [
    {
     "data": {
      "text/plain": [
       "17131"
      ]
     },
     "execution_count": 14,
     "metadata": {},
     "output_type": "execute_result"
    }
   ],
   "source": [
    "# calculate the number of correct predictions\n",
    "correct_predictions = (data['sentiment']==data['predicted_sentiment']).sum()\n",
    "correct_predictions"
   ]
  },
  {
   "cell_type": "code",
   "execution_count": 12,
   "id": "8457cfe5",
   "metadata": {},
   "outputs": [
    {
     "data": {
      "text/plain": [
       "25000"
      ]
     },
     "execution_count": 12,
     "metadata": {},
     "output_type": "execute_result"
    }
   ],
   "source": [
    "# count the total number of reviews\n",
    "total_number_reviews = len(data)\n",
    "total_number_reviews"
   ]
  },
  {
   "cell_type": "code",
   "execution_count": 15,
   "id": "23b3ffe7",
   "metadata": {},
   "outputs": [
    {
     "data": {
      "text/plain": [
       "0.68524"
      ]
     },
     "execution_count": 15,
     "metadata": {},
     "output_type": "execute_result"
    }
   ],
   "source": [
    "# Calculate the accuracy \n",
    "textblob_accuracy = correct_predictions/total_number_reviews\n",
    "textblob_accuracy"
   ]
  },
  {
   "cell_type": "code",
   "execution_count": 12,
   "id": "8e648e63",
   "metadata": {
    "scrolled": true
   },
   "outputs": [
    {
     "name": "stdout",
     "output_type": "stream",
     "text": [
      "TextBlob Accuracy: 68.52%\n"
     ]
    }
   ],
   "source": [
    "print(f'TextBlob Accuracy: {textblob_accuracy*100:.2f}%')"
   ]
  },
  {
   "cell_type": "code",
   "execution_count": 13,
   "id": "27ced737",
   "metadata": {},
   "outputs": [
    {
     "name": "stdout",
     "output_type": "stream",
     "text": [
      "Model performs better than random guessing\n"
     ]
    }
   ],
   "source": [
    "# Compare the model accuracy to random guessing (random guessing assumed as 50%, because we have 2 classes of reviews)\n",
    "if textblob_accuracy>0.5:\n",
    "    print('Model performs better than random guessing')\n",
    "else:\n",
    "    print('random guessing performs better than Model') "
   ]
  },
  {
   "cell_type": "markdown",
   "id": "92faf2a9",
   "metadata": {},
   "source": [
    "### - Using VADER text sentiment analyzer to classify movie reviews"
   ]
  },
  {
   "cell_type": "code",
   "execution_count": 16,
   "id": "585f4cb9",
   "metadata": {},
   "outputs": [
    {
     "name": "stderr",
     "output_type": "stream",
     "text": [
      "[nltk_data] Downloading package vader_lexicon to\n",
      "[nltk_data]     C:\\Users\\sanas\\AppData\\Roaming\\nltk_data...\n",
      "[nltk_data]   Package vader_lexicon is already up-to-date!\n"
     ]
    },
    {
     "data": {
      "text/plain": [
       "True"
      ]
     },
     "execution_count": 16,
     "metadata": {},
     "output_type": "execute_result"
    }
   ],
   "source": [
    "# download vader_lexicon package\n",
    "\n",
    "nltk.download('vader_lexicon')"
   ]
  },
  {
   "cell_type": "code",
   "execution_count": 17,
   "id": "c18222e6",
   "metadata": {},
   "outputs": [],
   "source": [
    "# Initialize VADER sentiment analyser\n",
    "sia = SentimentIntensityAnalyzer()\n"
   ]
  },
  {
   "cell_type": "code",
   "execution_count": 18,
   "id": "ccdc9594",
   "metadata": {},
   "outputs": [],
   "source": [
    "# Create a function to classify the sentiment using VADER\n",
    "def vader_sentiment(review):\n",
    "    score = sia.polarity_scores(review)['compound'] # get compoud score from vader\n",
    "    return 1 if score >=0 else 0"
   ]
  },
  {
   "cell_type": "code",
   "execution_count": 19,
   "id": "7a479c13",
   "metadata": {},
   "outputs": [],
   "source": [
    "# Apply the VADER sentiment classification to the 'review' column:\n",
    "data['vader_predicted_sentiment']= data['review'].apply(vader_sentiment)"
   ]
  },
  {
   "cell_type": "code",
   "execution_count": 20,
   "id": "03aa7fa3",
   "metadata": {
    "scrolled": true
   },
   "outputs": [
    {
     "data": {
      "text/html": [
       "<div>\n",
       "<style scoped>\n",
       "    .dataframe tbody tr th:only-of-type {\n",
       "        vertical-align: middle;\n",
       "    }\n",
       "\n",
       "    .dataframe tbody tr th {\n",
       "        vertical-align: top;\n",
       "    }\n",
       "\n",
       "    .dataframe thead th {\n",
       "        text-align: right;\n",
       "    }\n",
       "</style>\n",
       "<table border=\"1\" class=\"dataframe\">\n",
       "  <thead>\n",
       "    <tr style=\"text-align: right;\">\n",
       "      <th></th>\n",
       "      <th>id</th>\n",
       "      <th>sentiment</th>\n",
       "      <th>vader_predicted_sentiment</th>\n",
       "    </tr>\n",
       "  </thead>\n",
       "  <tbody>\n",
       "    <tr>\n",
       "      <th>0</th>\n",
       "      <td>5814_8</td>\n",
       "      <td>1</td>\n",
       "      <td>0</td>\n",
       "    </tr>\n",
       "    <tr>\n",
       "      <th>1</th>\n",
       "      <td>2381_9</td>\n",
       "      <td>1</td>\n",
       "      <td>1</td>\n",
       "    </tr>\n",
       "    <tr>\n",
       "      <th>2</th>\n",
       "      <td>7759_3</td>\n",
       "      <td>0</td>\n",
       "      <td>0</td>\n",
       "    </tr>\n",
       "    <tr>\n",
       "      <th>3</th>\n",
       "      <td>3630_4</td>\n",
       "      <td>0</td>\n",
       "      <td>0</td>\n",
       "    </tr>\n",
       "    <tr>\n",
       "      <th>4</th>\n",
       "      <td>9495_8</td>\n",
       "      <td>1</td>\n",
       "      <td>1</td>\n",
       "    </tr>\n",
       "  </tbody>\n",
       "</table>\n",
       "</div>"
      ],
      "text/plain": [
       "       id  sentiment  vader_predicted_sentiment\n",
       "0  5814_8          1                          0\n",
       "1  2381_9          1                          1\n",
       "2  7759_3          0                          0\n",
       "3  3630_4          0                          0\n",
       "4  9495_8          1                          1"
      ]
     },
     "execution_count": 20,
     "metadata": {},
     "output_type": "execute_result"
    }
   ],
   "source": [
    "# display the first few rows with vader_predicted_sentiment\n",
    "data[['id', 'sentiment', 'vader_predicted_sentiment']].head()"
   ]
  },
  {
   "cell_type": "code",
   "execution_count": 21,
   "id": "8c9a1188",
   "metadata": {},
   "outputs": [
    {
     "data": {
      "text/plain": [
       "17339"
      ]
     },
     "execution_count": 21,
     "metadata": {},
     "output_type": "execute_result"
    }
   ],
   "source": [
    "# calculate the vader correct predictions\n",
    "vader_correct_predictions = (data['sentiment']==data['vader_predicted_sentiment']).sum()\n",
    "vader_correct_predictions"
   ]
  },
  {
   "cell_type": "code",
   "execution_count": 22,
   "id": "c3f98dd3",
   "metadata": {},
   "outputs": [
    {
     "data": {
      "text/plain": [
       "0.69356"
      ]
     },
     "execution_count": 22,
     "metadata": {},
     "output_type": "execute_result"
    }
   ],
   "source": [
    "# Calculate the accuracy of the vader model:\n",
    "vader_accuracy = vader_correct_predictions/total_number_reviews\n",
    "vader_accuracy"
   ]
  },
  {
   "cell_type": "code",
   "execution_count": 23,
   "id": "927ede2c",
   "metadata": {},
   "outputs": [
    {
     "name": "stdout",
     "output_type": "stream",
     "text": [
      "VADER Accuracy:69.36%\n"
     ]
    }
   ],
   "source": [
    "print(f'VADER Accuracy:{vader_accuracy *100:.2f}%')"
   ]
  },
  {
   "cell_type": "code",
   "execution_count": 24,
   "id": "6aad1e73",
   "metadata": {},
   "outputs": [
    {
     "name": "stdout",
     "output_type": "stream",
     "text": [
      "VADER model is performing better than random gessing.\n"
     ]
    }
   ],
   "source": [
    "# compare to random gessing:\n",
    "if vader_accuracy>0.5:\n",
    "    print(\"VADER model is performing better than random gessing.\")\n",
    "else:\n",
    "    print(\"VADER model is less performing than random gessing.\")"
   ]
  },
  {
   "cell_type": "markdown",
   "id": "aa206ee7",
   "metadata": {},
   "source": [
    "The Vader sentiment analyser is performing slightly better than the TexBlob sentiment analyser, and both of them are fitting better than random guessing with the movie reviews data. The Vader sentiment classifier is specially tuned for social media/text data (twits/reviews/comments)."
   ]
  },
  {
   "cell_type": "code",
   "execution_count": null,
   "id": "b0b1d78e",
   "metadata": {},
   "outputs": [],
   "source": []
  }
 ],
 "metadata": {
  "kernelspec": {
   "display_name": "Python 3 (ipykernel)",
   "language": "python",
   "name": "python3"
  },
  "language_info": {
   "codemirror_mode": {
    "name": "ipython",
    "version": 3
   },
   "file_extension": ".py",
   "mimetype": "text/x-python",
   "name": "python",
   "nbconvert_exporter": "python",
   "pygments_lexer": "ipython3",
   "version": "3.11.5"
  }
 },
 "nbformat": 4,
 "nbformat_minor": 5
}
