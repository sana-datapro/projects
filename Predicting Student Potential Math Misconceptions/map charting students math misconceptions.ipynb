{
 "cells": [
  {
   "cell_type": "markdown",
   "id": "bed79a8a",
   "metadata": {
    "papermill": {
     "duration": 0.006543,
     "end_time": "2025-08-23T22:16:28.738534",
     "exception": false,
     "start_time": "2025-08-23T22:16:28.731991",
     "status": "completed"
    },
    "tags": []
   },
   "source": [
    "In this project, I am going to develop an NLP model to predict students'potential math misconceptions based on their explanations of open ended responses. This will help teachers to identify easily and address students'incorrect thinking and certainly improve students math learning.\n",
    "\n",
    "I am going to use the DeBERTa v3 base model, because our dataset is medium_sized, and it efficiently captures word meaning and position with strong performance."
   ]
  },
  {
   "cell_type": "markdown",
   "id": "a408569f",
   "metadata": {
    "papermill": {
     "duration": 0.005514,
     "end_time": "2025-08-23T22:16:28.749878",
     "exception": false,
     "start_time": "2025-08-23T22:16:28.744364",
     "status": "completed"
    },
    "tags": []
   },
   "source": [
    "## Importing Libraries:"
   ]
  },
  {
   "cell_type": "code",
   "execution_count": 1,
   "id": "09958e8a",
   "metadata": {
    "execution": {
     "iopub.execute_input": "2025-08-23T22:16:28.762651Z",
     "iopub.status.busy": "2025-08-23T22:16:28.761959Z",
     "iopub.status.idle": "2025-08-23T22:17:13.568925Z",
     "shell.execute_reply": "2025-08-23T22:17:13.568194Z"
    },
    "papermill": {
     "duration": 44.821534,
     "end_time": "2025-08-23T22:17:13.577027",
     "exception": false,
     "start_time": "2025-08-23T22:16:28.755493",
     "status": "completed"
    },
    "tags": []
   },
   "outputs": [
    {
     "name": "stderr",
     "output_type": "stream",
     "text": [
      "2025-08-23 22:16:55.924032: E external/local_xla/xla/stream_executor/cuda/cuda_fft.cc:477] Unable to register cuFFT factory: Attempting to register factory for plugin cuFFT when one has already been registered\n",
      "WARNING: All log messages before absl::InitializeLog() is called are written to STDERR\n",
      "E0000 00:00:1755987416.250321      19 cuda_dnn.cc:8310] Unable to register cuDNN factory: Attempting to register factory for plugin cuDNN when one has already been registered\n",
      "E0000 00:00:1755987416.348148      19 cuda_blas.cc:1418] Unable to register cuBLAS factory: Attempting to register factory for plugin cuBLAS when one has already been registered\n"
     ]
    },
    {
     "name": "stdout",
     "output_type": "stream",
     "text": [
      "/kaggle/input/huggingfacedebertav3variants/khalidalt-DeBERTa-v3-large/spm.model\n",
      "/kaggle/input/huggingfacedebertav3variants/khalidalt-DeBERTa-v3-large/config.json\n",
      "/kaggle/input/huggingfacedebertav3variants/khalidalt-DeBERTa-v3-large/README (1).md\n",
      "/kaggle/input/huggingfacedebertav3variants/khalidalt-DeBERTa-v3-large/README.md\n",
      "/kaggle/input/huggingfacedebertav3variants/khalidalt-DeBERTa-v3-large/tokenizer_config.json\n",
      "/kaggle/input/huggingfacedebertav3variants/khalidalt-DeBERTa-v3-large/tokenizer_config (1).json\n",
      "/kaggle/input/huggingfacedebertav3variants/khalidalt-DeBERTa-v3-large/pytorch_model.bin\n",
      "/kaggle/input/huggingfacedebertav3variants/khalidalt-DeBERTa-v3-large/special_tokens_map.json\n",
      "/kaggle/input/huggingfacedebertav3variants/khalidalt-DeBERTa-v3-large/gitattributes.txt\n",
      "/kaggle/input/huggingfacedebertav3variants/khalidalt-DeBERTa-v3-large/added_tokens.json\n",
      "/kaggle/input/huggingfacedebertav3variants/deberta-v3-base-squad2/spm.model\n",
      "/kaggle/input/huggingfacedebertav3variants/deberta-v3-base-squad2/config.json\n",
      "/kaggle/input/huggingfacedebertav3variants/deberta-v3-base-squad2/README.md\n",
      "/kaggle/input/huggingfacedebertav3variants/deberta-v3-base-squad2/tokenizer.json\n",
      "/kaggle/input/huggingfacedebertav3variants/deberta-v3-base-squad2/tokenizer_config.json\n",
      "/kaggle/input/huggingfacedebertav3variants/deberta-v3-base-squad2/pytorch_model.bin\n",
      "/kaggle/input/huggingfacedebertav3variants/deberta-v3-base-squad2/special_tokens_map.json\n",
      "/kaggle/input/huggingfacedebertav3variants/deberta-v3-base-squad2/gitattributes.txt\n",
      "/kaggle/input/huggingfacedebertav3variants/deberta-v3-base-squad2/added_tokens.json\n",
      "/kaggle/input/huggingfacedebertav3variants/deberta-v3-large-ontonotes5/spm.model\n",
      "/kaggle/input/huggingfacedebertav3variants/deberta-v3-large-ontonotes5/config.json\n",
      "/kaggle/input/huggingfacedebertav3variants/deberta-v3-large-ontonotes5/trainer_config.json\n",
      "/kaggle/input/huggingfacedebertav3variants/deberta-v3-large-ontonotes5/README.md\n",
      "/kaggle/input/huggingfacedebertav3variants/deberta-v3-large-ontonotes5/tokenizer.json\n",
      "/kaggle/input/huggingfacedebertav3variants/deberta-v3-large-ontonotes5/tokenizer_config.json\n",
      "/kaggle/input/huggingfacedebertav3variants/deberta-v3-large-ontonotes5/pytorch_model.bin\n",
      "/kaggle/input/huggingfacedebertav3variants/deberta-v3-large-ontonotes5/special_tokens_map.json\n",
      "/kaggle/input/huggingfacedebertav3variants/deberta-v3-large-ontonotes5/gitattributes.txt\n",
      "/kaggle/input/huggingfacedebertav3variants/deberta-v3-large-ontonotes5/added_tokens.json\n",
      "/kaggle/input/huggingfacedebertav3variants/deberta-v3-large-offensive/spm.model\n",
      "/kaggle/input/huggingfacedebertav3variants/deberta-v3-large-offensive/run_test.sh\n",
      "/kaggle/input/huggingfacedebertav3variants/deberta-v3-large-offensive/config.json\n",
      "/kaggle/input/huggingfacedebertav3variants/deberta-v3-large-offensive/run_train.sh\n",
      "/kaggle/input/huggingfacedebertav3variants/deberta-v3-large-offensive/trainer_state.json\n",
      "/kaggle/input/huggingfacedebertav3variants/deberta-v3-large-offensive/eval_results.json\n",
      "/kaggle/input/huggingfacedebertav3variants/deberta-v3-large-offensive/training_args.bin\n",
      "/kaggle/input/huggingfacedebertav3variants/deberta-v3-large-offensive/README.md\n",
      "/kaggle/input/huggingfacedebertav3variants/deberta-v3-large-offensive/tokenizer.json\n",
      "/kaggle/input/huggingfacedebertav3variants/deberta-v3-large-offensive/all_results.json\n",
      "/kaggle/input/huggingfacedebertav3variants/deberta-v3-large-offensive/tokenizer_config.json\n",
      "/kaggle/input/huggingfacedebertav3variants/deberta-v3-large-offensive/pytorch_model.bin\n",
      "/kaggle/input/huggingfacedebertav3variants/deberta-v3-large-offensive/special_tokens_map.json\n",
      "/kaggle/input/huggingfacedebertav3variants/deberta-v3-large-offensive/gitattributes.txt\n",
      "/kaggle/input/huggingfacedebertav3variants/deberta-v3-large-offensive/added_tokens.json\n",
      "/kaggle/input/huggingfacedebertav3variants/deberta-v3-large-offensive/test_results.json\n",
      "/kaggle/input/huggingfacedebertav3variants/yevheniimaslov-deberta-v3-base-cola/spm.model\n",
      "/kaggle/input/huggingfacedebertav3variants/yevheniimaslov-deberta-v3-base-cola/config.json\n",
      "/kaggle/input/huggingfacedebertav3variants/yevheniimaslov-deberta-v3-base-cola/trainer_state.json\n",
      "/kaggle/input/huggingfacedebertav3variants/yevheniimaslov-deberta-v3-base-cola/training_args.bin\n",
      "/kaggle/input/huggingfacedebertav3variants/yevheniimaslov-deberta-v3-base-cola/tokenizer.json\n",
      "/kaggle/input/huggingfacedebertav3variants/yevheniimaslov-deberta-v3-base-cola/tokenizer_config.json\n",
      "/kaggle/input/huggingfacedebertav3variants/yevheniimaslov-deberta-v3-base-cola/pytorch_model.bin\n",
      "/kaggle/input/huggingfacedebertav3variants/yevheniimaslov-deberta-v3-base-cola/scaler.pt\n",
      "/kaggle/input/huggingfacedebertav3variants/yevheniimaslov-deberta-v3-base-cola/scheduler.pt\n",
      "/kaggle/input/huggingfacedebertav3variants/yevheniimaslov-deberta-v3-base-cola/special_tokens_map.json\n",
      "/kaggle/input/huggingfacedebertav3variants/yevheniimaslov-deberta-v3-base-cola/optimizer.pt\n",
      "/kaggle/input/huggingfacedebertav3variants/yevheniimaslov-deberta-v3-base-cola/gitattributes.txt\n",
      "/kaggle/input/huggingfacedebertav3variants/yevheniimaslov-deberta-v3-base-cola/rng_state.pth\n",
      "/kaggle/input/huggingfacedebertav3variants/yevheniimaslov-deberta-v3-base-cola/added_tokens.json\n",
      "/kaggle/input/huggingfacedebertav3variants/deberta-v3-base/rust_model.ot\n",
      "/kaggle/input/huggingfacedebertav3variants/deberta-v3-base/spm.model\n",
      "/kaggle/input/huggingfacedebertav3variants/deberta-v3-base/config.json\n",
      "/kaggle/input/huggingfacedebertav3variants/deberta-v3-base/README.md\n",
      "/kaggle/input/huggingfacedebertav3variants/deberta-v3-base/tf_model.h5\n",
      "/kaggle/input/huggingfacedebertav3variants/deberta-v3-base/tokenizer_config.json\n",
      "/kaggle/input/huggingfacedebertav3variants/deberta-v3-base/pytorch_model.bin\n",
      "/kaggle/input/huggingfacedebertav3variants/deberta-v3-base/gitattributes.txt\n",
      "/kaggle/input/huggingfacedebertav3variants/deberta-v3-xsmall/spm.model\n",
      "/kaggle/input/huggingfacedebertav3variants/deberta-v3-xsmall/config.json\n",
      "/kaggle/input/huggingfacedebertav3variants/deberta-v3-xsmall/pytorch_model.generator.bin\n",
      "/kaggle/input/huggingfacedebertav3variants/deberta-v3-xsmall/README.md\n",
      "/kaggle/input/huggingfacedebertav3variants/deberta-v3-xsmall/tf_model.h5\n",
      "/kaggle/input/huggingfacedebertav3variants/deberta-v3-xsmall/tokenizer_config.json\n",
      "/kaggle/input/huggingfacedebertav3variants/deberta-v3-xsmall/pytorch_model.bin\n",
      "/kaggle/input/huggingfacedebertav3variants/deberta-v3-xsmall/generator_config.json\n",
      "/kaggle/input/huggingfacedebertav3variants/deberta-v3-xsmall/gitattributes.txt\n",
      "/kaggle/input/huggingfacedebertav3variants/mdeberta-v3-base/spm.model\n",
      "/kaggle/input/huggingfacedebertav3variants/mdeberta-v3-base/config.json\n",
      "/kaggle/input/huggingfacedebertav3variants/mdeberta-v3-base/README.md\n",
      "/kaggle/input/huggingfacedebertav3variants/mdeberta-v3-base/tf_model.h5\n",
      "/kaggle/input/huggingfacedebertav3variants/mdeberta-v3-base/tokenizer_config.json\n",
      "/kaggle/input/huggingfacedebertav3variants/mdeberta-v3-base/pytorch_model.bin\n",
      "/kaggle/input/huggingfacedebertav3variants/mdeberta-v3-base/gitattributes.txt\n",
      "/kaggle/input/huggingfacedebertav3variants/deberta-v3-small/spm.model\n",
      "/kaggle/input/huggingfacedebertav3variants/deberta-v3-small/config.json\n",
      "/kaggle/input/huggingfacedebertav3variants/deberta-v3-small/README.md\n",
      "/kaggle/input/huggingfacedebertav3variants/deberta-v3-small/tf_model.h5\n",
      "/kaggle/input/huggingfacedebertav3variants/deberta-v3-small/tokenizer_config.json\n",
      "/kaggle/input/huggingfacedebertav3variants/deberta-v3-small/pytorch_model.bin\n",
      "/kaggle/input/huggingfacedebertav3variants/deberta-v3-small/gitattributes.txt\n",
      "/kaggle/input/huggingfacedebertav3variants/deberta-v3-large/spm.model\n",
      "/kaggle/input/huggingfacedebertav3variants/deberta-v3-large/config.json\n",
      "/kaggle/input/huggingfacedebertav3variants/deberta-v3-large/README.md\n",
      "/kaggle/input/huggingfacedebertav3variants/deberta-v3-large/tf_model.h5\n",
      "/kaggle/input/huggingfacedebertav3variants/deberta-v3-large/tokenizer_config.json\n",
      "/kaggle/input/huggingfacedebertav3variants/deberta-v3-large/pytorch_model.bin\n",
      "/kaggle/input/huggingfacedebertav3variants/deberta-v3-large/gitattributes.txt\n",
      "/kaggle/input/map-charting-student-math-misunderstandings/sample_submission.csv\n",
      "/kaggle/input/map-charting-student-math-misunderstandings/train.csv\n",
      "/kaggle/input/map-charting-student-math-misunderstandings/test.csv\n"
     ]
    }
   ],
   "source": [
    "\n",
    "import pandas as pd, numpy as np\n",
    "from sklearn.preprocessing import LabelEncoder\n",
    "import numpy as np\n",
    "from sklearn.model_selection import train_test_split\n",
    "from datasets import Dataset\n",
    "from transformers import AutoTokenizer\n",
    "import torch\n",
    "from transformers import TrainingArguments, Trainer\n",
    "from transformers import AutoModelForSequenceClassification\n",
    "#from transformers import DebertaV2ForSequenceClassification\n",
    "from sklearn.metrics import average_precision_score\n",
    "import joblib\n",
    "import os\n",
    "for dirname, _, filenames in os.walk('/kaggle/input'):\n",
    "    for filename in filenames:\n",
    "        print(os.path.join(dirname, filename))"
   ]
  },
  {
   "cell_type": "markdown",
   "id": "deba85ee",
   "metadata": {
    "papermill": {
     "duration": 0.005665,
     "end_time": "2025-08-23T22:17:13.588685",
     "exception": false,
     "start_time": "2025-08-23T22:17:13.583020",
     "status": "completed"
    },
    "tags": []
   },
   "source": [
    "## Environment and Run Configuration:"
   ]
  },
  {
   "cell_type": "code",
   "execution_count": 2,
   "id": "6de83945",
   "metadata": {
    "execution": {
     "iopub.execute_input": "2025-08-23T22:17:13.601472Z",
     "iopub.status.busy": "2025-08-23T22:17:13.600936Z",
     "iopub.status.idle": "2025-08-23T22:17:13.605853Z",
     "shell.execute_reply": "2025-08-23T22:17:13.605113Z"
    },
    "papermill": {
     "duration": 0.012652,
     "end_time": "2025-08-23T22:17:13.607052",
     "exception": false,
     "start_time": "2025-08-23T22:17:13.594400",
     "status": "completed"
    },
    "tags": []
   },
   "outputs": [],
   "source": [
    "# set the CUDA environment variable\n",
    "os.environ[\"CUDA_VISIBLE_DEVICES\"]= \"0,1\"\n",
    "# set the version number for the model run\n",
    "VER=1\n",
    "# model name & path\n",
    "model_name= \"microsoft/deberta-v3-base\"\n",
    "model_path = \"/kaggle/input/huggingfacedebertav3variants/deberta-v3-base\"\n",
    "\n",
    "# number of epochs to train the model\n",
    "EPOCHS = 6\n",
    "# create a directory name to save model weights, logs, submission files\n",
    "DIR = f\"ver-{VER}\"\n",
    "# creates the folder if it doesn't exist\n",
    "os.makedirs(DIR, exist_ok=True)"
   ]
  },
  {
   "cell_type": "markdown",
   "id": "0265e221",
   "metadata": {
    "papermill": {
     "duration": 0.005739,
     "end_time": "2025-08-23T22:17:13.618753",
     "exception": false,
     "start_time": "2025-08-23T22:17:13.613014",
     "status": "completed"
    },
    "tags": []
   },
   "source": [
    "## Loading Data:"
   ]
  },
  {
   "cell_type": "code",
   "execution_count": 3,
   "id": "745a3cf7",
   "metadata": {
    "execution": {
     "iopub.execute_input": "2025-08-23T22:17:13.630836Z",
     "iopub.status.busy": "2025-08-23T22:17:13.630397Z",
     "iopub.status.idle": "2025-08-23T22:17:13.886112Z",
     "shell.execute_reply": "2025-08-23T22:17:13.885079Z"
    },
    "papermill": {
     "duration": 0.263111,
     "end_time": "2025-08-23T22:17:13.887430",
     "exception": false,
     "start_time": "2025-08-23T22:17:13.624319",
     "status": "completed"
    },
    "tags": []
   },
   "outputs": [
    {
     "name": "stdout",
     "output_type": "stream",
     "text": [
      "Training set: (36696, 7)\n",
      "Test set: (3, 5)\n",
      "   row_id  QuestionId                                       QuestionText  \\\n",
      "0       0       31772  What fraction of the shape is not shaded? Give...   \n",
      "1       1       31772  What fraction of the shape is not shaded? Give...   \n",
      "2       2       31772  What fraction of the shape is not shaded? Give...   \n",
      "3       3       31772  What fraction of the shape is not shaded? Give...   \n",
      "4       4       31772  What fraction of the shape is not shaded? Give...   \n",
      "\n",
      "           MC_Answer                                 StudentExplanation  \\\n",
      "0  \\( \\frac{1}{3} \\)                  0ne third is equal to tree nineth   \n",
      "1  \\( \\frac{1}{3} \\)  1 / 3 because 6 over 9 is 2 thirds and 1 third...   \n",
      "2  \\( \\frac{1}{3} \\)  1 3rd is half of 3 6th, so it is simplee to un...   \n",
      "3  \\( \\frac{1}{3} \\)        1 goes into everything and 3 goes into nine   \n",
      "4  \\( \\frac{1}{3} \\)                    1 out of every 3 isn't coloured   \n",
      "\n",
      "       Category Misconception  \n",
      "0  True_Correct           NaN  \n",
      "1  True_Correct           NaN  \n",
      "2  True_Neither           NaN  \n",
      "3  True_Neither           NaN  \n",
      "4  True_Correct           NaN  \n"
     ]
    }
   ],
   "source": [
    "# Load training & test set\n",
    "train = pd.read_csv('/kaggle/input/map-charting-student-math-misunderstandings/train.csv')\n",
    "test = pd.read_csv(\"/kaggle/input/map-charting-student-math-misunderstandings/test.csv\")\n",
    "\n",
    "# display the shape \n",
    "print(f\"Training set: {train.shape}\")\n",
    "print(f\"Test set: {test.shape}\")\n",
    "# first rows\n",
    "print(train.head())"
   ]
  },
  {
   "cell_type": "code",
   "execution_count": 4,
   "id": "0ea16857",
   "metadata": {
    "execution": {
     "iopub.execute_input": "2025-08-23T22:17:13.899658Z",
     "iopub.status.busy": "2025-08-23T22:17:13.899368Z",
     "iopub.status.idle": "2025-08-23T22:17:13.943153Z",
     "shell.execute_reply": "2025-08-23T22:17:13.942076Z"
    },
    "papermill": {
     "duration": 0.051326,
     "end_time": "2025-08-23T22:17:13.944524",
     "exception": false,
     "start_time": "2025-08-23T22:17:13.893198",
     "status": "completed"
    },
    "tags": []
   },
   "outputs": [
    {
     "name": "stdout",
     "output_type": "stream",
     "text": [
      "\n",
      "Train:\n",
      "<class 'pandas.core.frame.DataFrame'>\n",
      "RangeIndex: 36696 entries, 0 to 36695\n",
      "Data columns (total 7 columns):\n",
      " #   Column              Non-Null Count  Dtype \n",
      "---  ------              --------------  ----- \n",
      " 0   row_id              36696 non-null  int64 \n",
      " 1   QuestionId          36696 non-null  int64 \n",
      " 2   QuestionText        36696 non-null  object\n",
      " 3   MC_Answer           36696 non-null  object\n",
      " 4   StudentExplanation  36696 non-null  object\n",
      " 5   Category            36696 non-null  object\n",
      " 6   Misconception       9860 non-null   object\n",
      "dtypes: int64(2), object(5)\n",
      "memory usage: 2.0+ MB\n",
      "\n",
      "Test:\n",
      "<class 'pandas.core.frame.DataFrame'>\n",
      "RangeIndex: 3 entries, 0 to 2\n",
      "Data columns (total 5 columns):\n",
      " #   Column              Non-Null Count  Dtype \n",
      "---  ------              --------------  ----- \n",
      " 0   row_id              3 non-null      int64 \n",
      " 1   QuestionId          3 non-null      int64 \n",
      " 2   QuestionText        3 non-null      object\n",
      " 3   MC_Answer           3 non-null      object\n",
      " 4   StudentExplanation  3 non-null      object\n",
      "dtypes: int64(2), object(3)\n",
      "memory usage: 252.0+ bytes\n"
     ]
    }
   ],
   "source": [
    "# overview of data:\n",
    "print(\"\\nTrain:\")\n",
    "train.info()\n",
    "print(\"\\nTest:\")\n",
    "test.info()\n"
   ]
  },
  {
   "cell_type": "markdown",
   "id": "29ddf13f",
   "metadata": {
    "papermill": {
     "duration": 0.005842,
     "end_time": "2025-08-23T22:17:13.956481",
     "exception": false,
     "start_time": "2025-08-23T22:17:13.950639",
     "status": "completed"
    },
    "tags": []
   },
   "source": [
    "## Data Preprocessing"
   ]
  },
  {
   "cell_type": "markdown",
   "id": "9f44df20",
   "metadata": {
    "papermill": {
     "duration": 0.005718,
     "end_time": "2025-08-23T22:17:13.967880",
     "exception": false,
     "start_time": "2025-08-23T22:17:13.962162",
     "status": "completed"
    },
    "tags": []
   },
   "source": [
    "### - Handling Missing data in \"Misconception\" column:"
   ]
  },
  {
   "cell_type": "code",
   "execution_count": 5,
   "id": "74fb3aee",
   "metadata": {
    "execution": {
     "iopub.execute_input": "2025-08-23T22:17:13.980393Z",
     "iopub.status.busy": "2025-08-23T22:17:13.980127Z",
     "iopub.status.idle": "2025-08-23T22:17:13.986660Z",
     "shell.execute_reply": "2025-08-23T22:17:13.986007Z"
    },
    "papermill": {
     "duration": 0.014074,
     "end_time": "2025-08-23T22:17:13.987823",
     "exception": false,
     "start_time": "2025-08-23T22:17:13.973749",
     "status": "completed"
    },
    "tags": []
   },
   "outputs": [],
   "source": [
    "# The column 'Misconception' includes NaN. We can't drop these rows, We fill them with 'NA'\n",
    "train.Misconception = train.Misconception.fillna('NA')\n"
   ]
  },
  {
   "cell_type": "markdown",
   "id": "8723dcf8",
   "metadata": {
    "papermill": {
     "duration": 0.005664,
     "end_time": "2025-08-23T22:17:13.998906",
     "exception": false,
     "start_time": "2025-08-23T22:17:13.993242",
     "status": "completed"
    },
    "tags": []
   },
   "source": [
    "### - Label Encoding:"
   ]
  },
  {
   "cell_type": "code",
   "execution_count": 6,
   "id": "0980925d",
   "metadata": {
    "execution": {
     "iopub.execute_input": "2025-08-23T22:17:14.011184Z",
     "iopub.status.busy": "2025-08-23T22:17:14.010958Z",
     "iopub.status.idle": "2025-08-23T22:17:14.031986Z",
     "shell.execute_reply": "2025-08-23T22:17:14.031358Z"
    },
    "papermill": {
     "duration": 0.028529,
     "end_time": "2025-08-23T22:17:14.033164",
     "exception": false,
     "start_time": "2025-08-23T22:17:14.004635",
     "status": "completed"
    },
    "tags": []
   },
   "outputs": [
    {
     "name": "stdout",
     "output_type": "stream",
     "text": [
      "65\n"
     ]
    }
   ],
   "source": [
    "# # define the target\n",
    "train['target'] = train.Category+\":\"+train.Misconception\n",
    "# Label encoding the target\n",
    "le = LabelEncoder()\n",
    "train['label'] = le.fit_transform(train['target'])\n",
    "# display the number of classes of the target\n",
    "n_classes = len(le.classes_)\n",
    "print (n_classes)"
   ]
  },
  {
   "cell_type": "markdown",
   "id": "156a61ee",
   "metadata": {
    "papermill": {
     "duration": 0.006331,
     "end_time": "2025-08-23T22:17:14.045290",
     "exception": false,
     "start_time": "2025-08-23T22:17:14.038959",
     "status": "completed"
    },
    "tags": []
   },
   "source": [
    "### - Creating new features:"
   ]
  },
  {
   "cell_type": "markdown",
   "id": "0c637b3e",
   "metadata": {
    "papermill": {
     "duration": 0.005453,
     "end_time": "2025-08-23T22:17:14.056550",
     "exception": false,
     "start_time": "2025-08-23T22:17:14.051097",
     "status": "completed"
    },
    "tags": []
   },
   "source": [
    "- Create a new column 'is_correct' to mark the correct answers:"
   ]
  },
  {
   "cell_type": "code",
   "execution_count": 7,
   "id": "aa8d4652",
   "metadata": {
    "execution": {
     "iopub.execute_input": "2025-08-23T22:17:14.068763Z",
     "iopub.status.busy": "2025-08-23T22:17:14.068474Z",
     "iopub.status.idle": "2025-08-23T22:17:14.252866Z",
     "shell.execute_reply": "2025-08-23T22:17:14.252220Z"
    },
    "papermill": {
     "duration": 0.192152,
     "end_time": "2025-08-23T22:17:14.254151",
     "exception": false,
     "start_time": "2025-08-23T22:17:14.061999",
     "status": "completed"
    },
    "tags": []
   },
   "outputs": [
    {
     "data": {
      "text/plain": [
       "0    True\n",
       "1    True\n",
       "2    True\n",
       "3    True\n",
       "4    True\n",
       "dtype: bool"
      ]
     },
     "execution_count": 7,
     "metadata": {},
     "output_type": "execute_result"
    }
   ],
   "source": [
    "# apply a function to each row in train to split Category, take 1st part & check if it is equal to 'True'\n",
    "idx = train.apply(lambda row: row['Category'].split('_')[0], axis=1)=='True'\n",
    "idx.head()"
   ]
  },
  {
   "cell_type": "code",
   "execution_count": 8,
   "id": "535d60ae",
   "metadata": {
    "execution": {
     "iopub.execute_input": "2025-08-23T22:17:14.267697Z",
     "iopub.status.busy": "2025-08-23T22:17:14.267091Z",
     "iopub.status.idle": "2025-08-23T22:17:14.300695Z",
     "shell.execute_reply": "2025-08-23T22:17:14.299884Z"
    },
    "papermill": {
     "duration": 0.041388,
     "end_time": "2025-08-23T22:17:14.301992",
     "exception": false,
     "start_time": "2025-08-23T22:17:14.260604",
     "status": "completed"
    },
    "tags": []
   },
   "outputs": [
    {
     "data": {
      "text/html": [
       "<div>\n",
       "<style scoped>\n",
       "    .dataframe tbody tr th:only-of-type {\n",
       "        vertical-align: middle;\n",
       "    }\n",
       "\n",
       "    .dataframe tbody tr th {\n",
       "        vertical-align: top;\n",
       "    }\n",
       "\n",
       "    .dataframe thead th {\n",
       "        text-align: right;\n",
       "    }\n",
       "</style>\n",
       "<table border=\"1\" class=\"dataframe\">\n",
       "  <thead>\n",
       "    <tr style=\"text-align: right;\">\n",
       "      <th></th>\n",
       "      <th>QuestionId</th>\n",
       "      <th>MC_Answer</th>\n",
       "      <th>is_correct</th>\n",
       "    </tr>\n",
       "  </thead>\n",
       "  <tbody>\n",
       "    <tr>\n",
       "      <th>61</th>\n",
       "      <td>31772</td>\n",
       "      <td>\\( \\frac{1}{3} \\)</td>\n",
       "      <td>1</td>\n",
       "    </tr>\n",
       "    <tr>\n",
       "      <th>7430</th>\n",
       "      <td>31774</td>\n",
       "      <td>\\( \\frac{1}{12} \\)</td>\n",
       "      <td>1</td>\n",
       "    </tr>\n",
       "    <tr>\n",
       "      <th>10770</th>\n",
       "      <td>31777</td>\n",
       "      <td>\\( 72 \\)</td>\n",
       "      <td>1</td>\n",
       "    </tr>\n",
       "    <tr>\n",
       "      <th>14266</th>\n",
       "      <td>31778</td>\n",
       "      <td>\\( 6 \\)</td>\n",
       "      <td>1</td>\n",
       "    </tr>\n",
       "    <tr>\n",
       "      <th>14440</th>\n",
       "      <td>32829</td>\n",
       "      <td>\\( 12 \\)</td>\n",
       "      <td>1</td>\n",
       "    </tr>\n",
       "  </tbody>\n",
       "</table>\n",
       "</div>"
      ],
      "text/plain": [
       "       QuestionId           MC_Answer  is_correct\n",
       "61          31772   \\( \\frac{1}{3} \\)           1\n",
       "7430        31774  \\( \\frac{1}{12} \\)           1\n",
       "10770       31777            \\( 72 \\)           1\n",
       "14266       31778             \\( 6 \\)           1\n",
       "14440       32829            \\( 12 \\)           1"
      ]
     },
     "execution_count": 8,
     "metadata": {},
     "output_type": "execute_result"
    }
   ],
   "source": [
    "# create a copy of the train rows and columns where the category being with True through the booleen array (idx) \n",
    "correct = train.loc[idx].copy()\n",
    "# count how many times each pair (QuestionID, MC_Answer) appears in the correct answers and sort them in descending order\n",
    "correct['c'] = correct.groupby(['QuestionId','MC_Answer']).MC_Answer.transform('count')\n",
    "correct = correct.sort_values('c',ascending=False)\n",
    "# drop duplicates to keep only first row based on QuestionID\n",
    "correct = correct.drop_duplicates(['QuestionId'])\n",
    "# reduce the table correct to the necessary fields for merging\n",
    "correct = correct[['QuestionId','MC_Answer']]\n",
    "# create a new column 'is_correct' set it to 1 to mark the answers as correct\n",
    "correct['is_correct'] = 1\n",
    "correct.head()"
   ]
  },
  {
   "cell_type": "code",
   "execution_count": 9,
   "id": "3c3e9075",
   "metadata": {
    "execution": {
     "iopub.execute_input": "2025-08-23T22:17:14.315533Z",
     "iopub.status.busy": "2025-08-23T22:17:14.315282Z",
     "iopub.status.idle": "2025-08-23T22:17:14.348441Z",
     "shell.execute_reply": "2025-08-23T22:17:14.347775Z"
    },
    "papermill": {
     "duration": 0.041233,
     "end_time": "2025-08-23T22:17:14.349635",
     "exception": false,
     "start_time": "2025-08-23T22:17:14.308402",
     "status": "completed"
    },
    "tags": []
   },
   "outputs": [
    {
     "data": {
      "text/html": [
       "<div>\n",
       "<style scoped>\n",
       "    .dataframe tbody tr th:only-of-type {\n",
       "        vertical-align: middle;\n",
       "    }\n",
       "\n",
       "    .dataframe tbody tr th {\n",
       "        vertical-align: top;\n",
       "    }\n",
       "\n",
       "    .dataframe thead th {\n",
       "        text-align: right;\n",
       "    }\n",
       "</style>\n",
       "<table border=\"1\" class=\"dataframe\">\n",
       "  <thead>\n",
       "    <tr style=\"text-align: right;\">\n",
       "      <th></th>\n",
       "      <th>row_id</th>\n",
       "      <th>QuestionId</th>\n",
       "      <th>QuestionText</th>\n",
       "      <th>MC_Answer</th>\n",
       "      <th>StudentExplanation</th>\n",
       "      <th>Category</th>\n",
       "      <th>Misconception</th>\n",
       "      <th>target</th>\n",
       "      <th>label</th>\n",
       "      <th>is_correct</th>\n",
       "    </tr>\n",
       "  </thead>\n",
       "  <tbody>\n",
       "    <tr>\n",
       "      <th>0</th>\n",
       "      <td>0</td>\n",
       "      <td>31772</td>\n",
       "      <td>What fraction of the shape is not shaded? Give...</td>\n",
       "      <td>\\( \\frac{1}{3} \\)</td>\n",
       "      <td>0ne third is equal to tree nineth</td>\n",
       "      <td>True_Correct</td>\n",
       "      <td>NA</td>\n",
       "      <td>True_Correct:NA</td>\n",
       "      <td>37</td>\n",
       "      <td>1.0</td>\n",
       "    </tr>\n",
       "    <tr>\n",
       "      <th>1</th>\n",
       "      <td>1</td>\n",
       "      <td>31772</td>\n",
       "      <td>What fraction of the shape is not shaded? Give...</td>\n",
       "      <td>\\( \\frac{1}{3} \\)</td>\n",
       "      <td>1 / 3 because 6 over 9 is 2 thirds and 1 third...</td>\n",
       "      <td>True_Correct</td>\n",
       "      <td>NA</td>\n",
       "      <td>True_Correct:NA</td>\n",
       "      <td>37</td>\n",
       "      <td>1.0</td>\n",
       "    </tr>\n",
       "    <tr>\n",
       "      <th>2</th>\n",
       "      <td>2</td>\n",
       "      <td>31772</td>\n",
       "      <td>What fraction of the shape is not shaded? Give...</td>\n",
       "      <td>\\( \\frac{1}{3} \\)</td>\n",
       "      <td>1 3rd is half of 3 6th, so it is simplee to un...</td>\n",
       "      <td>True_Neither</td>\n",
       "      <td>NA</td>\n",
       "      <td>True_Neither:NA</td>\n",
       "      <td>64</td>\n",
       "      <td>1.0</td>\n",
       "    </tr>\n",
       "    <tr>\n",
       "      <th>3</th>\n",
       "      <td>3</td>\n",
       "      <td>31772</td>\n",
       "      <td>What fraction of the shape is not shaded? Give...</td>\n",
       "      <td>\\( \\frac{1}{3} \\)</td>\n",
       "      <td>1 goes into everything and 3 goes into nine</td>\n",
       "      <td>True_Neither</td>\n",
       "      <td>NA</td>\n",
       "      <td>True_Neither:NA</td>\n",
       "      <td>64</td>\n",
       "      <td>1.0</td>\n",
       "    </tr>\n",
       "    <tr>\n",
       "      <th>4</th>\n",
       "      <td>4</td>\n",
       "      <td>31772</td>\n",
       "      <td>What fraction of the shape is not shaded? Give...</td>\n",
       "      <td>\\( \\frac{1}{3} \\)</td>\n",
       "      <td>1 out of every 3 isn't coloured</td>\n",
       "      <td>True_Correct</td>\n",
       "      <td>NA</td>\n",
       "      <td>True_Correct:NA</td>\n",
       "      <td>37</td>\n",
       "      <td>1.0</td>\n",
       "    </tr>\n",
       "  </tbody>\n",
       "</table>\n",
       "</div>"
      ],
      "text/plain": [
       "   row_id  QuestionId                                       QuestionText  \\\n",
       "0       0       31772  What fraction of the shape is not shaded? Give...   \n",
       "1       1       31772  What fraction of the shape is not shaded? Give...   \n",
       "2       2       31772  What fraction of the shape is not shaded? Give...   \n",
       "3       3       31772  What fraction of the shape is not shaded? Give...   \n",
       "4       4       31772  What fraction of the shape is not shaded? Give...   \n",
       "\n",
       "           MC_Answer                                 StudentExplanation  \\\n",
       "0  \\( \\frac{1}{3} \\)                  0ne third is equal to tree nineth   \n",
       "1  \\( \\frac{1}{3} \\)  1 / 3 because 6 over 9 is 2 thirds and 1 third...   \n",
       "2  \\( \\frac{1}{3} \\)  1 3rd is half of 3 6th, so it is simplee to un...   \n",
       "3  \\( \\frac{1}{3} \\)        1 goes into everything and 3 goes into nine   \n",
       "4  \\( \\frac{1}{3} \\)                    1 out of every 3 isn't coloured   \n",
       "\n",
       "       Category Misconception           target  label  is_correct  \n",
       "0  True_Correct            NA  True_Correct:NA     37         1.0  \n",
       "1  True_Correct            NA  True_Correct:NA     37         1.0  \n",
       "2  True_Neither            NA  True_Neither:NA     64         1.0  \n",
       "3  True_Neither            NA  True_Neither:NA     64         1.0  \n",
       "4  True_Correct            NA  True_Correct:NA     37         1.0  "
      ]
     },
     "execution_count": 9,
     "metadata": {},
     "output_type": "execute_result"
    }
   ],
   "source": [
    "# merge correct table with train set on the columns 'QuestionID' and 'AC_Answer'\n",
    "train = train.merge(correct, on =['QuestionId','MC_Answer'],how='left' )\n",
    "train.is_correct = train.is_correct.fillna(0)\n",
    "train.head()"
   ]
  },
  {
   "cell_type": "markdown",
   "id": "35f126ec",
   "metadata": {
    "papermill": {
     "duration": 0.006107,
     "end_time": "2025-08-23T22:17:14.362033",
     "exception": false,
     "start_time": "2025-08-23T22:17:14.355926",
     "status": "completed"
    },
    "tags": []
   },
   "source": [
    "- Create the 'text' column including Question, Answer, explanation and if it 'is correct' or not:"
   ]
  },
  {
   "cell_type": "code",
   "execution_count": 10,
   "id": "b1cf482f",
   "metadata": {
    "execution": {
     "iopub.execute_input": "2025-08-23T22:17:14.375031Z",
     "iopub.status.busy": "2025-08-23T22:17:14.374792Z",
     "iopub.status.idle": "2025-08-23T22:17:14.788402Z",
     "shell.execute_reply": "2025-08-23T22:17:14.787538Z"
    },
    "papermill": {
     "duration": 0.421724,
     "end_time": "2025-08-23T22:17:14.789770",
     "exception": false,
     "start_time": "2025-08-23T22:17:14.368046",
     "status": "completed"
    },
    "tags": []
   },
   "outputs": [
    {
     "name": "stdout",
     "output_type": "stream",
     "text": [
      "Example prompt for our LLM:\n",
      "\n",
      " Question: What fraction of the shape is not shaded? Give your answer in its simplest form. [Image: A triangle split into 9 equal smaller triangles. 6 of them are shaded.]\n",
      " Answer: \\( \\frac{1}{3} \\)\n",
      " This answer is correct.\n",
      "Student Explanation: 0ne third is equal to tree nineth\n"
     ]
    }
   ],
   "source": [
    "# format the input text which we will tokenize\n",
    "def format_input(row):\n",
    "    x = \"This answer is correct.\"\n",
    "    if not row['is_correct']:\n",
    "        x = \"This is answer is incorrect.\"\n",
    "    return (\n",
    "        f\" Question: {row['QuestionText']}\\n\"\n",
    "        f\" Answer: {row['MC_Answer']}\\n\"\n",
    "        f\" {x}\\n\"\n",
    "        f\"Student Explanation: {row['StudentExplanation']}\"\n",
    "    )\n",
    "\n",
    "train['text'] = train.apply(format_input,axis=1)\n",
    "print(\"Example prompt for our LLM:\")\n",
    "print()\n",
    "print( train.text[0])\n"
   ]
  },
  {
   "cell_type": "code",
   "execution_count": 11,
   "id": "f56be4a7",
   "metadata": {
    "execution": {
     "iopub.execute_input": "2025-08-23T22:17:14.803089Z",
     "iopub.status.busy": "2025-08-23T22:17:14.802830Z",
     "iopub.status.idle": "2025-08-23T22:17:24.177892Z",
     "shell.execute_reply": "2025-08-23T22:17:24.176948Z"
    },
    "papermill": {
     "duration": 9.382986,
     "end_time": "2025-08-23T22:17:24.179141",
     "exception": false,
     "start_time": "2025-08-23T22:17:14.796155",
     "status": "completed"
    },
    "tags": []
   },
   "outputs": [
    {
     "name": "stderr",
     "output_type": "stream",
     "text": [
      "/usr/local/lib/python3.11/dist-packages/transformers/convert_slow_tokenizer.py:564: UserWarning: The sentencepiece tokenizer that you are converting to a fast tokenizer uses the byte fallback option which is not implemented in the fast tokenizers. In practice this means that the fast version of the tokenizer can produce unknown tokens whereas the sentencepiece version would have converted these unknown tokens into a sequence of byte tokens matching the original piece of text.\n",
      "  warnings.warn(\n"
     ]
    },
    {
     "data": {
      "image/png": "[encoded data removed]",
      "text/plain": [
       "<Figure size 640x480 with 1 Axes>"
      ]
     },
     "metadata": {},
     "output_type": "display_data"
    }
   ],
   "source": [
    "# compute the lenghts of tokens in the 'text' column\n",
    "tokenizer = AutoTokenizer.from_pretrained(model_path, local_files_only=True)\n",
    "MAX_LEN = 256\n",
    "lengths = [len(tokenizer.encode(t, truncation=False)) for t in train[\"text\"]]\n",
    "\n",
    "# visualize the tokens' lenghts\n",
    "import matplotlib.pyplot as plt\n",
    "plt.hist(lengths, bins=50, color='r')\n",
    "plt.title(\"Token Length Distribution\")\n",
    "plt.xlabel(\"Tokens Number\")\n",
    "plt.ylabel(\"Frequency\")\n",
    "plt.grid(True)\n",
    "plt.show()\n"
   ]
  },
  {
   "cell_type": "code",
   "execution_count": 12,
   "id": "adfc5c19",
   "metadata": {
    "execution": {
     "iopub.execute_input": "2025-08-23T22:17:24.194099Z",
     "iopub.status.busy": "2025-08-23T22:17:24.193857Z",
     "iopub.status.idle": "2025-08-23T22:17:24.205213Z",
     "shell.execute_reply": "2025-08-23T22:17:24.204250Z"
    },
    "papermill": {
     "duration": 0.020186,
     "end_time": "2025-08-23T22:17:24.206619",
     "exception": false,
     "start_time": "2025-08-23T22:17:24.186433",
     "status": "completed"
    },
    "tags": []
   },
   "outputs": [
    {
     "name": "stdout",
     "output_type": "stream",
     "text": [
      "There are 1 train sample(s) with more than 256 tokens\n"
     ]
    },
    {
     "data": {
      "text/plain": [
       "array([ 31,  31,  31, ..., 184, 231, 268])"
      ]
     },
     "execution_count": 12,
     "metadata": {},
     "output_type": "execute_result"
    }
   ],
   "source": [
    "# display the number of train samples more than max lenght (256).\n",
    "\n",
    "L = (np.array(lengths)>MAX_LEN).sum()\n",
    "print(f\"There are {L} train sample(s) with more than {MAX_LEN} tokens\")\n",
    "np.sort( lengths )"
   ]
  },
  {
   "cell_type": "markdown",
   "id": "e233f44f",
   "metadata": {
    "papermill": {
     "duration": 0.006936,
     "end_time": "2025-08-23T22:17:24.220967",
     "exception": false,
     "start_time": "2025-08-23T22:17:24.214031",
     "status": "completed"
    },
    "tags": []
   },
   "source": [
    "### - Splitting data into training and validation sets:"
   ]
  },
  {
   "cell_type": "code",
   "execution_count": 13,
   "id": "b9955fc4",
   "metadata": {
    "execution": {
     "iopub.execute_input": "2025-08-23T22:17:24.235473Z",
     "iopub.status.busy": "2025-08-23T22:17:24.235245Z",
     "iopub.status.idle": "2025-08-23T22:17:24.250395Z",
     "shell.execute_reply": "2025-08-23T22:17:24.249703Z"
    },
    "papermill": {
     "duration": 0.023968,
     "end_time": "2025-08-23T22:17:24.251676",
     "exception": false,
     "start_time": "2025-08-23T22:17:24.227708",
     "status": "completed"
    },
    "tags": []
   },
   "outputs": [],
   "source": [
    "train_df, val_df = train_test_split(train, test_size=0.2, random_state=42)"
   ]
  },
  {
   "cell_type": "markdown",
   "id": "67128879",
   "metadata": {
    "papermill": {
     "duration": 0.007195,
     "end_time": "2025-08-23T22:17:24.311402",
     "exception": false,
     "start_time": "2025-08-23T22:17:24.304207",
     "status": "completed"
    },
    "tags": []
   },
   "source": [
    "### - Converting to Hugging Face datasets: \n"
   ]
  },
  {
   "cell_type": "code",
   "execution_count": 14,
   "id": "6f046cf4",
   "metadata": {
    "execution": {
     "iopub.execute_input": "2025-08-23T22:17:24.326484Z",
     "iopub.status.busy": "2025-08-23T22:17:24.325926Z",
     "iopub.status.idle": "2025-08-23T22:17:24.505934Z",
     "shell.execute_reply": "2025-08-23T22:17:24.505018Z"
    },
    "papermill": {
     "duration": 0.189327,
     "end_time": "2025-08-23T22:17:24.507403",
     "exception": false,
     "start_time": "2025-08-23T22:17:24.318076",
     "status": "completed"
    },
    "tags": []
   },
   "outputs": [],
   "source": [
    "columns = ['text', 'label']\n",
    "train_ds = Dataset.from_pandas(train_df[columns])\n",
    "val_ds = Dataset.from_pandas(train_df[columns])\n"
   ]
  },
  {
   "cell_type": "markdown",
   "id": "93901036",
   "metadata": {
    "papermill": {
     "duration": 0.006399,
     "end_time": "2025-08-23T22:17:24.521092",
     "exception": false,
     "start_time": "2025-08-23T22:17:24.514693",
     "status": "completed"
    },
    "tags": []
   },
   "source": [
    "### - Data Tokenization (Training & Validation Hugging Face datasets):"
   ]
  },
  {
   "cell_type": "code",
   "execution_count": 15,
   "id": "af01f0cd",
   "metadata": {
    "execution": {
     "iopub.execute_input": "2025-08-23T22:17:24.535020Z",
     "iopub.status.busy": "2025-08-23T22:17:24.534762Z",
     "iopub.status.idle": "2025-08-23T22:17:37.281777Z",
     "shell.execute_reply": "2025-08-23T22:17:37.280975Z"
    },
    "papermill": {
     "duration": 12.755473,
     "end_time": "2025-08-23T22:17:37.283153",
     "exception": false,
     "start_time": "2025-08-23T22:17:24.527680",
     "status": "completed"
    },
    "tags": []
   },
   "outputs": [
    {
     "data": {
      "application/vnd.jupyter.widget-view+json": {
       "model_id": "26b000c2412a416585875fe4da2e0f3a",
       "version_major": 2,
       "version_minor": 0
      },
      "text/plain": [
       "Map:   0%|          | 0/29356 [00:00<?, ? examples/s]"
      ]
     },
     "metadata": {},
     "output_type": "display_data"
    },
    {
     "data": {
      "application/vnd.jupyter.widget-view+json": {
       "model_id": "766581025d8f4ace859bc37357bc52d4",
       "version_major": 2,
       "version_minor": 0
      },
      "text/plain": [
       "Map:   0%|          | 0/29356 [00:00<?, ? examples/s]"
      ]
     },
     "metadata": {},
     "output_type": "display_data"
    }
   ],
   "source": [
    "# create Tokenization function\n",
    "def tokenize(batch):\n",
    "    return tokenizer(batch[\"text\"], padding=\"max_length\", truncation=True, max_length=256)\n",
    "# tokenize training and validation hugging face datasets\n",
    "train_ds = train_ds.map(tokenize, batched=True)\n",
    "val_ds = val_ds.map(tokenize, batched=True)"
   ]
  },
  {
   "cell_type": "code",
   "execution_count": 16,
   "id": "186a6bd5",
   "metadata": {
    "execution": {
     "iopub.execute_input": "2025-08-23T22:17:37.298805Z",
     "iopub.status.busy": "2025-08-23T22:17:37.298548Z",
     "iopub.status.idle": "2025-08-23T22:17:37.308993Z",
     "shell.execute_reply": "2025-08-23T22:17:37.308230Z"
    },
    "papermill": {
     "duration": 0.019263,
     "end_time": "2025-08-23T22:17:37.310094",
     "exception": false,
     "start_time": "2025-08-23T22:17:37.290831",
     "status": "completed"
    },
    "tags": []
   },
   "outputs": [
    {
     "data": {
      "text/plain": [
       "{'label': torch.Tensor,\n",
       " 'input_ids': torch.Tensor,\n",
       " 'attention_mask': torch.Tensor}"
      ]
     },
     "execution_count": 16,
     "metadata": {},
     "output_type": "execute_result"
    }
   ],
   "source": [
    "# Set format for PyTorch\n",
    "columns = ['input_ids', 'attention_mask', 'label']\n",
    "train_ds.set_format(type='torch', columns=columns)\n",
    "val_ds.set_format(type='torch', columns=columns)\n",
    "\n",
    "# check the format transformation: \n",
    "sample =train_ds[0]\n",
    "{col:type(val) for col, val in sample.items()}\n"
   ]
  },
  {
   "cell_type": "markdown",
   "id": "f3406ed1",
   "metadata": {
    "papermill": {
     "duration": 0.006837,
     "end_time": "2025-08-23T22:17:37.323851",
     "exception": false,
     "start_time": "2025-08-23T22:17:37.317014",
     "status": "completed"
    },
    "tags": []
   },
   "source": [
    "## Model Training and Evaluation:"
   ]
  },
  {
   "cell_type": "markdown",
   "id": "7365429d",
   "metadata": {
    "papermill": {
     "duration": 0.006777,
     "end_time": "2025-08-23T22:17:37.337747",
     "exception": false,
     "start_time": "2025-08-23T22:17:37.330970",
     "status": "completed"
    },
    "tags": []
   },
   "source": [
    "### - Model building:"
   ]
  },
  {
   "cell_type": "code",
   "execution_count": 17,
   "id": "e178b0d0",
   "metadata": {
    "execution": {
     "iopub.execute_input": "2025-08-23T22:17:37.352652Z",
     "iopub.status.busy": "2025-08-23T22:17:37.352384Z",
     "iopub.status.idle": "2025-08-23T22:17:41.284526Z",
     "shell.execute_reply": "2025-08-23T22:17:41.283749Z"
    },
    "papermill": {
     "duration": 3.940904,
     "end_time": "2025-08-23T22:17:41.285907",
     "exception": false,
     "start_time": "2025-08-23T22:17:37.345003",
     "status": "completed"
    },
    "tags": []
   },
   "outputs": [
    {
     "name": "stderr",
     "output_type": "stream",
     "text": [
      "Some weights of DebertaV2ForSequenceClassification were not initialized from the model checkpoint at /kaggle/input/huggingfacedebertav3variants/deberta-v3-base and are newly initialized: ['classifier.bias', 'classifier.weight', 'pooler.dense.bias', 'pooler.dense.weight']\n",
      "You should probably TRAIN this model on a down-stream task to be able to use it for predictions and inference.\n"
     ]
    }
   ],
   "source": [
    "# set up model\n",
    "model = AutoModelForSequenceClassification.from_pretrained(model_path, local_files_only=True, num_labels=n_classes,\n",
    "    ignore_mismatched_sizes=True)\n"
   ]
  },
  {
   "cell_type": "code",
   "execution_count": 18,
   "id": "c582cdc3",
   "metadata": {
    "execution": {
     "iopub.execute_input": "2025-08-23T22:17:41.301727Z",
     "iopub.status.busy": "2025-08-23T22:17:41.301437Z",
     "iopub.status.idle": "2025-08-23T22:17:41.336010Z",
     "shell.execute_reply": "2025-08-23T22:17:41.335421Z"
    },
    "papermill": {
     "duration": 0.043517,
     "end_time": "2025-08-23T22:17:41.337084",
     "exception": false,
     "start_time": "2025-08-23T22:17:41.293567",
     "status": "completed"
    },
    "tags": []
   },
   "outputs": [],
   "source": [
    "# setting up training arguments\n",
    "training_args = TrainingArguments(\n",
    "    output_dir = f\"./{DIR}\",\n",
    "    do_train=True,\n",
    "    do_eval=True,\n",
    "    eval_strategy=\"steps\",\n",
    "    save_strategy=\"steps\", \n",
    "    num_train_epochs=EPOCHS,\n",
    "    per_device_train_batch_size=16,\n",
    "    per_device_eval_batch_size=32,\n",
    "    learning_rate=5e-5,\n",
    "    logging_dir=\"./logs\",\n",
    "    logging_steps=50,\n",
    "    save_steps=200,\n",
    "    eval_steps=200,\n",
    "    save_total_limit=1, # keep only the most recent checkpoint\n",
    "    metric_for_best_model=\"map@3\",\n",
    "    greater_is_better=True,\n",
    "    load_best_model_at_end=True,\n",
    "    report_to=\"none\",\n",
    ")"
   ]
  },
  {
   "cell_type": "markdown",
   "id": "333c0f38",
   "metadata": {
    "papermill": {
     "duration": 0.006694,
     "end_time": "2025-08-23T22:17:41.350724",
     "exception": false,
     "start_time": "2025-08-23T22:17:41.344030",
     "status": "completed"
    },
    "tags": []
   },
   "source": [
    "We will evaluate our model every 200 steps, log every 50 steps and decide which is the best model based on the metric \"map@3\"."
   ]
  },
  {
   "cell_type": "code",
   "execution_count": 19,
   "id": "54c8c559",
   "metadata": {
    "execution": {
     "iopub.execute_input": "2025-08-23T22:17:41.366130Z",
     "iopub.status.busy": "2025-08-23T22:17:41.365884Z",
     "iopub.status.idle": "2025-08-23T22:17:41.371147Z",
     "shell.execute_reply": "2025-08-23T22:17:41.370632Z"
    },
    "papermill": {
     "duration": 0.014122,
     "end_time": "2025-08-23T22:17:41.372180",
     "exception": false,
     "start_time": "2025-08-23T22:17:41.358058",
     "status": "completed"
    },
    "tags": []
   },
   "outputs": [],
   "source": [
    "# Compute MAP@3 metric\n",
    "\n",
    "def compute_map3(eval_pred):\n",
    "    logits, labels = eval_pred # unpack eval_pred\n",
    "    # convert logits into pytorch tensor, apply softmax to get prob for each class, then convert to numpy array\n",
    "    probs = torch.nn.functional.softmax(torch.tensor(logits), dim=-1).numpy()\n",
    "    # sort indices in ascend order and flips it to get the three top predicted class indices per row\n",
    "    top3 = np.argsort(-probs, axis=1)[:, :3]  # Top 3 predictions per row\n",
    "    # compare each label to the three predictions for that row\n",
    "    match = (top3 == labels[:, None])\n",
    "\n",
    "    # Compute MAP@3 manually\n",
    "    map3 = 0\n",
    "    for i in range(len(labels)):\n",
    "        if match[i, 0]:\n",
    "            map3 += 1.0\n",
    "        elif match[i, 1]:\n",
    "            map3 += 1.0 / 2\n",
    "        elif match[i, 2]:\n",
    "            map3 += 1.0 / 3\n",
    "    return {\"map@3\": map3 / len(labels)}"
   ]
  },
  {
   "cell_type": "markdown",
   "id": "8cbcde25",
   "metadata": {
    "papermill": {
     "duration": 0.006677,
     "end_time": "2025-08-23T22:17:41.385642",
     "exception": false,
     "start_time": "2025-08-23T22:17:41.378965",
     "status": "completed"
    },
    "tags": []
   },
   "source": [
    "### - Training and Saving Model:"
   ]
  },
  {
   "cell_type": "code",
   "execution_count": 20,
   "id": "ce5798c0",
   "metadata": {
    "execution": {
     "iopub.execute_input": "2025-08-23T22:17:41.400877Z",
     "iopub.status.busy": "2025-08-23T22:17:41.400697Z",
     "iopub.status.idle": "2025-08-24T02:08:58.624888Z",
     "shell.execute_reply": "2025-08-24T02:08:58.624134Z"
    },
    "papermill": {
     "duration": 13877.233501,
     "end_time": "2025-08-24T02:08:58.626351",
     "exception": false,
     "start_time": "2025-08-23T22:17:41.392850",
     "status": "completed"
    },
    "tags": []
   },
   "outputs": [
    {
     "name": "stderr",
     "output_type": "stream",
     "text": [
      "/tmp/ipykernel_19/2123443610.py:2: FutureWarning: `tokenizer` is deprecated and will be removed in version 5.0.0 for `Trainer.__init__`. Use `processing_class` instead.\n",
      "  trainer = Trainer(\n",
      "/usr/local/lib/python3.11/dist-packages/torch/nn/parallel/_functions.py:70: UserWarning: Was asked to gather along dimension 0, but all input tensors were scalars; will instead unsqueeze and return a vector.\n",
      "  warnings.warn(\n"
     ]
    },
    {
     "data": {
      "text/html": [
       "\n",
       "    <div>\n",
       "      \n",
       "      <progress value='5508' max='5508' style='width:300px; height:20px; vertical-align: middle;'></progress>\n",
       "      [5508/5508 3:51:13, Epoch 6/6]\n",
       "    </div>\n",
       "    <table border=\"1\" class=\"dataframe\">\n",
       "  <thead>\n",
       " <tr style=\"text-align: left;\">\n",
       "      <th>Step</th>\n",
       "      <th>Training Loss</th>\n",
       "      <th>Validation Loss</th>\n",
       "      <th>Map@3</th>\n",
       "    </tr>\n",
       "  </thead>\n",
       "  <tbody>\n",
       "    <tr>\n",
       "      <td>200</td>\n",
       "      <td>1.358900</td>\n",
       "      <td>1.414440</td>\n",
       "      <td>0.693033</td>\n",
       "    </tr>\n",
       "    <tr>\n",
       "      <td>400</td>\n",
       "      <td>0.957700</td>\n",
       "      <td>0.905942</td>\n",
       "      <td>0.810209</td>\n",
       "    </tr>\n",
       "    <tr>\n",
       "      <td>600</td>\n",
       "      <td>0.847300</td>\n",
       "      <td>0.805150</td>\n",
       "      <td>0.842179</td>\n",
       "    </tr>\n",
       "    <tr>\n",
       "      <td>800</td>\n",
       "      <td>0.714900</td>\n",
       "      <td>0.627037</td>\n",
       "      <td>0.874796</td>\n",
       "    </tr>\n",
       "    <tr>\n",
       "      <td>1000</td>\n",
       "      <td>0.651300</td>\n",
       "      <td>0.608919</td>\n",
       "      <td>0.880013</td>\n",
       "    </tr>\n",
       "    <tr>\n",
       "      <td>1200</td>\n",
       "      <td>0.566900</td>\n",
       "      <td>0.523203</td>\n",
       "      <td>0.898947</td>\n",
       "    </tr>\n",
       "    <tr>\n",
       "      <td>1400</td>\n",
       "      <td>0.522400</td>\n",
       "      <td>0.501758</td>\n",
       "      <td>0.900605</td>\n",
       "    </tr>\n",
       "    <tr>\n",
       "      <td>1600</td>\n",
       "      <td>0.538000</td>\n",
       "      <td>0.494180</td>\n",
       "      <td>0.902899</td>\n",
       "    </tr>\n",
       "    <tr>\n",
       "      <td>1800</td>\n",
       "      <td>0.530200</td>\n",
       "      <td>0.469121</td>\n",
       "      <td>0.909377</td>\n",
       "    </tr>\n",
       "    <tr>\n",
       "      <td>2000</td>\n",
       "      <td>0.481500</td>\n",
       "      <td>0.448183</td>\n",
       "      <td>0.910632</td>\n",
       "    </tr>\n",
       "    <tr>\n",
       "      <td>2200</td>\n",
       "      <td>0.467200</td>\n",
       "      <td>0.414327</td>\n",
       "      <td>0.920380</td>\n",
       "    </tr>\n",
       "    <tr>\n",
       "      <td>2400</td>\n",
       "      <td>0.449600</td>\n",
       "      <td>0.388996</td>\n",
       "      <td>0.926835</td>\n",
       "    </tr>\n",
       "    <tr>\n",
       "      <td>2600</td>\n",
       "      <td>0.464700</td>\n",
       "      <td>0.386705</td>\n",
       "      <td>0.926369</td>\n",
       "    </tr>\n",
       "    <tr>\n",
       "      <td>2800</td>\n",
       "      <td>0.363600</td>\n",
       "      <td>0.363345</td>\n",
       "      <td>0.931803</td>\n",
       "    </tr>\n",
       "    <tr>\n",
       "      <td>3000</td>\n",
       "      <td>0.375900</td>\n",
       "      <td>0.418486</td>\n",
       "      <td>0.924070</td>\n",
       "    </tr>\n",
       "    <tr>\n",
       "      <td>3200</td>\n",
       "      <td>0.375500</td>\n",
       "      <td>0.319868</td>\n",
       "      <td>0.942181</td>\n",
       "    </tr>\n",
       "    <tr>\n",
       "      <td>3400</td>\n",
       "      <td>0.339400</td>\n",
       "      <td>0.315167</td>\n",
       "      <td>0.941977</td>\n",
       "    </tr>\n",
       "    <tr>\n",
       "      <td>3600</td>\n",
       "      <td>0.400900</td>\n",
       "      <td>0.278646</td>\n",
       "      <td>0.950578</td>\n",
       "    </tr>\n",
       "    <tr>\n",
       "      <td>3800</td>\n",
       "      <td>0.296000</td>\n",
       "      <td>0.311431</td>\n",
       "      <td>0.945781</td>\n",
       "    </tr>\n",
       "    <tr>\n",
       "      <td>4000</td>\n",
       "      <td>0.298700</td>\n",
       "      <td>0.257626</td>\n",
       "      <td>0.955858</td>\n",
       "    </tr>\n",
       "    <tr>\n",
       "      <td>4200</td>\n",
       "      <td>0.309100</td>\n",
       "      <td>0.255835</td>\n",
       "      <td>0.955432</td>\n",
       "    </tr>\n",
       "    <tr>\n",
       "      <td>4400</td>\n",
       "      <td>0.291400</td>\n",
       "      <td>0.230227</td>\n",
       "      <td>0.961081</td>\n",
       "    </tr>\n",
       "    <tr>\n",
       "      <td>4600</td>\n",
       "      <td>0.299600</td>\n",
       "      <td>0.227510</td>\n",
       "      <td>0.960661</td>\n",
       "    </tr>\n",
       "    <tr>\n",
       "      <td>4800</td>\n",
       "      <td>0.266000</td>\n",
       "      <td>0.209457</td>\n",
       "      <td>0.964573</td>\n",
       "    </tr>\n",
       "    <tr>\n",
       "      <td>5000</td>\n",
       "      <td>0.254800</td>\n",
       "      <td>0.201985</td>\n",
       "      <td>0.966265</td>\n",
       "    </tr>\n",
       "    <tr>\n",
       "      <td>5200</td>\n",
       "      <td>0.250300</td>\n",
       "      <td>0.190265</td>\n",
       "      <td>0.968842</td>\n",
       "    </tr>\n",
       "    <tr>\n",
       "      <td>5400</td>\n",
       "      <td>0.218800</td>\n",
       "      <td>0.190996</td>\n",
       "      <td>0.968910</td>\n",
       "    </tr>\n",
       "  </tbody>\n",
       "</table><p>"
      ],
      "text/plain": [
       "<IPython.core.display.HTML object>"
      ]
     },
     "metadata": {},
     "output_type": "display_data"
    },
    {
     "name": "stderr",
     "output_type": "stream",
     "text": [
      "/usr/local/lib/python3.11/dist-packages/torch/nn/parallel/_functions.py:70: UserWarning: Was asked to gather along dimension 0, but all input tensors were scalars; will instead unsqueeze and return a vector.\n",
      "  warnings.warn(\n",
      "/usr/local/lib/python3.11/dist-packages/torch/nn/parallel/_functions.py:70: UserWarning: Was asked to gather along dimension 0, but all input tensors were scalars; will instead unsqueeze and return a vector.\n",
      "  warnings.warn(\n",
      "/usr/local/lib/python3.11/dist-packages/torch/nn/parallel/_functions.py:70: UserWarning: Was asked to gather along dimension 0, but all input tensors were scalars; will instead unsqueeze and return a vector.\n",
      "  warnings.warn(\n",
      "/usr/local/lib/python3.11/dist-packages/torch/nn/parallel/_functions.py:70: UserWarning: Was asked to gather along dimension 0, but all input tensors were scalars; will instead unsqueeze and return a vector.\n",
      "  warnings.warn(\n",
      "/usr/local/lib/python3.11/dist-packages/torch/nn/parallel/_functions.py:70: UserWarning: Was asked to gather along dimension 0, but all input tensors were scalars; will instead unsqueeze and return a vector.\n",
      "  warnings.warn(\n",
      "/usr/local/lib/python3.11/dist-packages/torch/nn/parallel/_functions.py:70: UserWarning: Was asked to gather along dimension 0, but all input tensors were scalars; will instead unsqueeze and return a vector.\n",
      "  warnings.warn(\n",
      "/usr/local/lib/python3.11/dist-packages/torch/nn/parallel/_functions.py:70: UserWarning: Was asked to gather along dimension 0, but all input tensors were scalars; will instead unsqueeze and return a vector.\n",
      "  warnings.warn(\n",
      "/usr/local/lib/python3.11/dist-packages/torch/nn/parallel/_functions.py:70: UserWarning: Was asked to gather along dimension 0, but all input tensors were scalars; will instead unsqueeze and return a vector.\n",
      "  warnings.warn(\n",
      "/usr/local/lib/python3.11/dist-packages/torch/nn/parallel/_functions.py:70: UserWarning: Was asked to gather along dimension 0, but all input tensors were scalars; will instead unsqueeze and return a vector.\n",
      "  warnings.warn(\n",
      "/usr/local/lib/python3.11/dist-packages/torch/nn/parallel/_functions.py:70: UserWarning: Was asked to gather along dimension 0, but all input tensors were scalars; will instead unsqueeze and return a vector.\n",
      "  warnings.warn(\n",
      "/usr/local/lib/python3.11/dist-packages/torch/nn/parallel/_functions.py:70: UserWarning: Was asked to gather along dimension 0, but all input tensors were scalars; will instead unsqueeze and return a vector.\n",
      "  warnings.warn(\n",
      "/usr/local/lib/python3.11/dist-packages/torch/nn/parallel/_functions.py:70: UserWarning: Was asked to gather along dimension 0, but all input tensors were scalars; will instead unsqueeze and return a vector.\n",
      "  warnings.warn(\n",
      "/usr/local/lib/python3.11/dist-packages/torch/nn/parallel/_functions.py:70: UserWarning: Was asked to gather along dimension 0, but all input tensors were scalars; will instead unsqueeze and return a vector.\n",
      "  warnings.warn(\n",
      "/usr/local/lib/python3.11/dist-packages/torch/nn/parallel/_functions.py:70: UserWarning: Was asked to gather along dimension 0, but all input tensors were scalars; will instead unsqueeze and return a vector.\n",
      "  warnings.warn(\n",
      "/usr/local/lib/python3.11/dist-packages/torch/nn/parallel/_functions.py:70: UserWarning: Was asked to gather along dimension 0, but all input tensors were scalars; will instead unsqueeze and return a vector.\n",
      "  warnings.warn(\n",
      "/usr/local/lib/python3.11/dist-packages/torch/nn/parallel/_functions.py:70: UserWarning: Was asked to gather along dimension 0, but all input tensors were scalars; will instead unsqueeze and return a vector.\n",
      "  warnings.warn(\n",
      "/usr/local/lib/python3.11/dist-packages/torch/nn/parallel/_functions.py:70: UserWarning: Was asked to gather along dimension 0, but all input tensors were scalars; will instead unsqueeze and return a vector.\n",
      "  warnings.warn(\n",
      "/usr/local/lib/python3.11/dist-packages/torch/nn/parallel/_functions.py:70: UserWarning: Was asked to gather along dimension 0, but all input tensors were scalars; will instead unsqueeze and return a vector.\n",
      "  warnings.warn(\n",
      "/usr/local/lib/python3.11/dist-packages/torch/nn/parallel/_functions.py:70: UserWarning: Was asked to gather along dimension 0, but all input tensors were scalars; will instead unsqueeze and return a vector.\n",
      "  warnings.warn(\n",
      "/usr/local/lib/python3.11/dist-packages/torch/nn/parallel/_functions.py:70: UserWarning: Was asked to gather along dimension 0, but all input tensors were scalars; will instead unsqueeze and return a vector.\n",
      "  warnings.warn(\n",
      "/usr/local/lib/python3.11/dist-packages/torch/nn/parallel/_functions.py:70: UserWarning: Was asked to gather along dimension 0, but all input tensors were scalars; will instead unsqueeze and return a vector.\n",
      "  warnings.warn(\n",
      "/usr/local/lib/python3.11/dist-packages/torch/nn/parallel/_functions.py:70: UserWarning: Was asked to gather along dimension 0, but all input tensors were scalars; will instead unsqueeze and return a vector.\n",
      "  warnings.warn(\n",
      "/usr/local/lib/python3.11/dist-packages/torch/nn/parallel/_functions.py:70: UserWarning: Was asked to gather along dimension 0, but all input tensors were scalars; will instead unsqueeze and return a vector.\n",
      "  warnings.warn(\n",
      "/usr/local/lib/python3.11/dist-packages/torch/nn/parallel/_functions.py:70: UserWarning: Was asked to gather along dimension 0, but all input tensors were scalars; will instead unsqueeze and return a vector.\n",
      "  warnings.warn(\n",
      "/usr/local/lib/python3.11/dist-packages/torch/nn/parallel/_functions.py:70: UserWarning: Was asked to gather along dimension 0, but all input tensors were scalars; will instead unsqueeze and return a vector.\n",
      "  warnings.warn(\n",
      "/usr/local/lib/python3.11/dist-packages/torch/nn/parallel/_functions.py:70: UserWarning: Was asked to gather along dimension 0, but all input tensors were scalars; will instead unsqueeze and return a vector.\n",
      "  warnings.warn(\n",
      "/usr/local/lib/python3.11/dist-packages/torch/nn/parallel/_functions.py:70: UserWarning: Was asked to gather along dimension 0, but all input tensors were scalars; will instead unsqueeze and return a vector.\n",
      "  warnings.warn(\n"
     ]
    },
    {
     "data": {
      "text/plain": [
       "TrainOutput(global_step=5508, training_loss=0.4962214149031504, metrics={'train_runtime': 13875.837, 'train_samples_per_second': 12.694, 'train_steps_per_second': 0.397, 'total_flos': 2.318518706898125e+16, 'train_loss': 0.4962214149031504, 'epoch': 6.0})"
      ]
     },
     "execution_count": 20,
     "metadata": {},
     "output_type": "execute_result"
    }
   ],
   "source": [
    "# Trainer\n",
    "trainer = Trainer(\n",
    "    model=model,\n",
    "    args=training_args,\n",
    "    train_dataset=train_ds,\n",
    "    eval_dataset=val_ds,\n",
    "    tokenizer=tokenizer,\n",
    "    compute_metrics=compute_map3,\n",
    ")\n",
    "\n",
    "trainer.train()"
   ]
  },
  {
   "cell_type": "code",
   "execution_count": 21,
   "id": "fc15124b",
   "metadata": {
    "execution": {
     "iopub.execute_input": "2025-08-24T02:08:58.644782Z",
     "iopub.status.busy": "2025-08-24T02:08:58.644532Z",
     "iopub.status.idle": "2025-08-24T02:09:00.364469Z",
     "shell.execute_reply": "2025-08-24T02:09:00.363912Z"
    },
    "papermill": {
     "duration": 1.730537,
     "end_time": "2025-08-24T02:09:00.365973",
     "exception": false,
     "start_time": "2025-08-24T02:08:58.635436",
     "status": "completed"
    },
    "tags": []
   },
   "outputs": [],
   "source": [
    "# Save model\n",
    "\n",
    "trainer.save_model(f\"{DIR}/best\")\n",
    "_ = joblib.dump(le, f\"{DIR}/label_encoder.joblib\")\n"
   ]
  },
  {
   "cell_type": "code",
   "execution_count": 22,
   "id": "cdc756c4",
   "metadata": {
    "execution": {
     "iopub.execute_input": "2025-08-24T02:09:00.384359Z",
     "iopub.status.busy": "2025-08-24T02:09:00.383887Z",
     "iopub.status.idle": "2025-08-24T02:09:01.181227Z",
     "shell.execute_reply": "2025-08-24T02:09:01.180542Z"
    },
    "papermill": {
     "duration": 0.807731,
     "end_time": "2025-08-24T02:09:01.182565",
     "exception": false,
     "start_time": "2025-08-24T02:09:00.374834",
     "status": "completed"
    },
    "tags": []
   },
   "outputs": [
    {
     "name": "stderr",
     "output_type": "stream",
     "text": [
      "/tmp/ipykernel_19/3235029901.py:7: FutureWarning: `tokenizer` is deprecated and will be removed in version 5.0.0 for `Trainer.__init__`. Use `processing_class` instead.\n",
      "  trainer = Trainer(model=model, tokenizer=tokenizer, args=training_args)\n"
     ]
    }
   ],
   "source": [
    "tokenizer = AutoTokenizer.from_pretrained(f\"{DIR}/best\") \n",
    "model = AutoModelForSequenceClassification.from_pretrained(\n",
    "    f\"{DIR}/best\",\n",
    "    num_labels=n_classes  \n",
    ")\n",
    "training_args = TrainingArguments(report_to=\"none\")\n",
    "trainer = Trainer(model=model, tokenizer=tokenizer, args=training_args)\n",
    "le = joblib.load(f\"{DIR}/label_encoder.joblib\")"
   ]
  },
  {
   "cell_type": "markdown",
   "id": "2eb632d0",
   "metadata": {
    "papermill": {
     "duration": 0.008011,
     "end_time": "2025-08-24T02:09:01.199317",
     "exception": false,
     "start_time": "2025-08-24T02:09:01.191306",
     "status": "completed"
    },
    "tags": []
   },
   "source": [
    "### - Predictions and Saving Submission file:"
   ]
  },
  {
   "cell_type": "code",
   "execution_count": 23,
   "id": "fd55da03",
   "metadata": {
    "execution": {
     "iopub.execute_input": "2025-08-24T02:09:01.217138Z",
     "iopub.status.busy": "2025-08-24T02:09:01.216897Z",
     "iopub.status.idle": "2025-08-24T02:09:01.269141Z",
     "shell.execute_reply": "2025-08-24T02:09:01.268466Z"
    },
    "papermill": {
     "duration": 0.062755,
     "end_time": "2025-08-24T02:09:01.270231",
     "exception": false,
     "start_time": "2025-08-24T02:09:01.207476",
     "status": "completed"
    },
    "tags": []
   },
   "outputs": [
    {
     "data": {
      "text/html": [
       "<div>\n",
       "<style scoped>\n",
       "    .dataframe tbody tr th:only-of-type {\n",
       "        vertical-align: middle;\n",
       "    }\n",
       "\n",
       "    .dataframe tbody tr th {\n",
       "        vertical-align: top;\n",
       "    }\n",
       "\n",
       "    .dataframe thead th {\n",
       "        text-align: right;\n",
       "    }\n",
       "</style>\n",
       "<table border=\"1\" class=\"dataframe\">\n",
       "  <thead>\n",
       "    <tr style=\"text-align: right;\">\n",
       "      <th></th>\n",
       "      <th>row_id</th>\n",
       "      <th>QuestionId</th>\n",
       "      <th>QuestionText</th>\n",
       "      <th>MC_Answer</th>\n",
       "      <th>StudentExplanation</th>\n",
       "      <th>is_correct</th>\n",
       "      <th>text</th>\n",
       "    </tr>\n",
       "  </thead>\n",
       "  <tbody>\n",
       "    <tr>\n",
       "      <th>0</th>\n",
       "      <td>36696</td>\n",
       "      <td>31772</td>\n",
       "      <td>What fraction of the shape is not shaded? Give...</td>\n",
       "      <td>\\( \\frac{1}{3} \\)</td>\n",
       "      <td>I think that 1/3 is the answer, as it's the si...</td>\n",
       "      <td>1.0</td>\n",
       "      <td>Question: What fraction of the shape is not s...</td>\n",
       "    </tr>\n",
       "    <tr>\n",
       "      <th>1</th>\n",
       "      <td>36697</td>\n",
       "      <td>31772</td>\n",
       "      <td>What fraction of the shape is not shaded? Give...</td>\n",
       "      <td>\\( \\frac{3}{6} \\)</td>\n",
       "      <td>i think this answer is because 3 triangles are...</td>\n",
       "      <td>0.0</td>\n",
       "      <td>Question: What fraction of the shape is not s...</td>\n",
       "    </tr>\n",
       "    <tr>\n",
       "      <th>2</th>\n",
       "      <td>36698</td>\n",
       "      <td>32835</td>\n",
       "      <td>Which number is the greatest?</td>\n",
       "      <td>\\( 6.2 \\)</td>\n",
       "      <td>because the 2 makes it higher than the others.</td>\n",
       "      <td>1.0</td>\n",
       "      <td>Question: Which number is the greatest?\\n Ans...</td>\n",
       "    </tr>\n",
       "  </tbody>\n",
       "</table>\n",
       "</div>"
      ],
      "text/plain": [
       "   row_id  QuestionId                                       QuestionText  \\\n",
       "0   36696       31772  What fraction of the shape is not shaded? Give...   \n",
       "1   36697       31772  What fraction of the shape is not shaded? Give...   \n",
       "2   36698       32835                      Which number is the greatest?   \n",
       "\n",
       "           MC_Answer                                 StudentExplanation  \\\n",
       "0  \\( \\frac{1}{3} \\)  I think that 1/3 is the answer, as it's the si...   \n",
       "1  \\( \\frac{3}{6} \\)  i think this answer is because 3 triangles are...   \n",
       "2          \\( 6.2 \\)     because the 2 makes it higher than the others.   \n",
       "\n",
       "   is_correct                                               text  \n",
       "0         1.0   Question: What fraction of the shape is not s...  \n",
       "1         0.0   Question: What fraction of the shape is not s...  \n",
       "2         1.0   Question: Which number is the greatest?\\n Ans...  "
      ]
     },
     "execution_count": 23,
     "metadata": {},
     "output_type": "execute_result"
    }
   ],
   "source": [
    "test = test.merge(correct, on=['QuestionId','MC_Answer'], how='left')\n",
    "test.is_correct = test.is_correct.fillna(0)\n",
    "\n",
    "test['text'] = test.apply(format_input,axis=1)\n",
    "\n",
    "test.head()"
   ]
  },
  {
   "cell_type": "code",
   "execution_count": 24,
   "id": "d778f7fc",
   "metadata": {
    "execution": {
     "iopub.execute_input": "2025-08-24T02:09:01.288217Z",
     "iopub.status.busy": "2025-08-24T02:09:01.287854Z",
     "iopub.status.idle": "2025-08-24T02:09:01.554125Z",
     "shell.execute_reply": "2025-08-24T02:09:01.553256Z"
    },
    "papermill": {
     "duration": 0.276528,
     "end_time": "2025-08-24T02:09:01.555455",
     "exception": false,
     "start_time": "2025-08-24T02:09:01.278927",
     "status": "completed"
    },
    "tags": []
   },
   "outputs": [
    {
     "data": {
      "application/vnd.jupyter.widget-view+json": {
       "model_id": "3d02a55ddf86432ab32017cf39c79b69",
       "version_major": 2,
       "version_minor": 0
      },
      "text/plain": [
       "Map:   0%|          | 0/3 [00:00<?, ? examples/s]"
      ]
     },
     "metadata": {},
     "output_type": "display_data"
    },
    {
     "data": {
      "text/html": [],
      "text/plain": [
       "<IPython.core.display.HTML object>"
      ]
     },
     "metadata": {},
     "output_type": "display_data"
    }
   ],
   "source": [
    "ds_test = Dataset.from_pandas(test[['text']])\n",
    "ds_test = ds_test.map(tokenize, batched=True)\n",
    "\n",
    "predictions = trainer.predict(ds_test)\n",
    "probs = torch.nn.functional.softmax(torch.tensor(predictions.predictions), dim=1).numpy()"
   ]
  },
  {
   "cell_type": "code",
   "execution_count": 25,
   "id": "d605aac8",
   "metadata": {
    "execution": {
     "iopub.execute_input": "2025-08-24T02:09:01.580394Z",
     "iopub.status.busy": "2025-08-24T02:09:01.579769Z",
     "iopub.status.idle": "2025-08-24T02:09:01.599320Z",
     "shell.execute_reply": "2025-08-24T02:09:01.598632Z"
    },
    "papermill": {
     "duration": 0.031316,
     "end_time": "2025-08-24T02:09:01.600440",
     "exception": false,
     "start_time": "2025-08-24T02:09:01.569124",
     "status": "completed"
    },
    "tags": []
   },
   "outputs": [
    {
     "data": {
      "text/html": [
       "<div>\n",
       "<style scoped>\n",
       "    .dataframe tbody tr th:only-of-type {\n",
       "        vertical-align: middle;\n",
       "    }\n",
       "\n",
       "    .dataframe tbody tr th {\n",
       "        vertical-align: top;\n",
       "    }\n",
       "\n",
       "    .dataframe thead th {\n",
       "        text-align: right;\n",
       "    }\n",
       "</style>\n",
       "<table border=\"1\" class=\"dataframe\">\n",
       "  <thead>\n",
       "    <tr style=\"text-align: right;\">\n",
       "      <th></th>\n",
       "      <th>row_id</th>\n",
       "      <th>Category:Misconception</th>\n",
       "    </tr>\n",
       "  </thead>\n",
       "  <tbody>\n",
       "    <tr>\n",
       "      <th>0</th>\n",
       "      <td>36696</td>\n",
       "      <td>True_Correct:NA True_Neither:NA True_Misconcep...</td>\n",
       "    </tr>\n",
       "    <tr>\n",
       "      <th>1</th>\n",
       "      <td>36697</td>\n",
       "      <td>False_Misconception:WNB False_Neither:NA False...</td>\n",
       "    </tr>\n",
       "    <tr>\n",
       "      <th>2</th>\n",
       "      <td>36698</td>\n",
       "      <td>True_Neither:NA True_Correct:NA True_Misconcep...</td>\n",
       "    </tr>\n",
       "  </tbody>\n",
       "</table>\n",
       "</div>"
      ],
      "text/plain": [
       "   row_id                             Category:Misconception\n",
       "0   36696  True_Correct:NA True_Neither:NA True_Misconcep...\n",
       "1   36697  False_Misconception:WNB False_Neither:NA False...\n",
       "2   36698  True_Neither:NA True_Correct:NA True_Misconcep..."
      ]
     },
     "execution_count": 25,
     "metadata": {},
     "output_type": "execute_result"
    }
   ],
   "source": [
    "# Get top 3 predicted class indices\n",
    "top3 = np.argsort(-probs, axis=1)[:, :3]   # shape: [num_samples, 3]\n",
    "\n",
    "# Decode numeric class indices to original string labels\n",
    "flat_top3 = top3.flatten()\n",
    "decoded_labels = le.inverse_transform(flat_top3)\n",
    "top3_labels = decoded_labels.reshape(top3.shape)\n",
    "\n",
    "# Join 3 labels per row with space\n",
    "joined_preds = [\" \".join(row) for row in top3_labels]\n",
    "\n",
    "# Save submission\n",
    "submission = pd.DataFrame({\n",
    "    \"row_id\": test.row_id.values,\n",
    "    \"Category:Misconception\": joined_preds\n",
    "})\n",
    "submission.to_csv(\"/kaggle/working/submission.csv\", index=False)\n",
    "submission.head()"
   ]
  },
  {
   "cell_type": "code",
   "execution_count": 26,
   "id": "9aef96e9",
   "metadata": {
    "execution": {
     "iopub.execute_input": "2025-08-24T02:09:01.619161Z",
     "iopub.status.busy": "2025-08-24T02:09:01.618970Z",
     "iopub.status.idle": "2025-08-24T02:09:01.623076Z",
     "shell.execute_reply": "2025-08-24T02:09:01.622531Z"
    },
    "papermill": {
     "duration": 0.01436,
     "end_time": "2025-08-24T02:09:01.624095",
     "exception": false,
     "start_time": "2025-08-24T02:09:01.609735",
     "status": "completed"
    },
    "tags": []
   },
   "outputs": [
    {
     "data": {
      "text/plain": [
       "True"
      ]
     },
     "execution_count": 26,
     "metadata": {},
     "output_type": "execute_result"
    }
   ],
   "source": [
    "import os\n",
    "os.path.exists(\"/kaggle/working/submission.csv\")"
   ]
  },
  {
   "cell_type": "code",
   "execution_count": null,
   "id": "5688190b",
   "metadata": {
    "papermill": {
     "duration": 0.008587,
     "end_time": "2025-08-24T02:09:01.641837",
     "exception": false,
     "start_time": "2025-08-24T02:09:01.633250",
     "status": "completed"
    },
    "tags": []
   },
   "outputs": [],
   "source": []
  }
 ],
 "metadata": {
  "kaggle": {
   "accelerator": "nvidiaTeslaT4",
   "dataSources": [
    {
     "databundleVersionId": 12957508,
     "sourceId": 104383,
     "sourceType": "competition"
    },
    {
     "datasetId": 2663421,
     "sourceId": 4620664,
     "sourceType": "datasetVersion"
    }
   ],
   "dockerImageVersionId": 31090,
   "isGpuEnabled": true,
   "isInternetEnabled": false,
   "language": "python",
   "sourceType": "notebook"
  },
  "kernelspec": {
   "display_name": "Python 3",
   "language": "python",
   "name": "python3"
  },
  "language_info": {
   "codemirror_mode": {
    "name": "ipython",
    "version": 3
   },
   "file_extension": ".py",
   "mimetype": "text/x-python",
   "name": "python",
   "nbconvert_exporter": "python",
   "pygments_lexer": "ipython3",
   "version": "3.11.13"
  },
  "papermill": {
   "default_parameters": {},
   "duration": 13962.396146,
   "end_time": "2025-08-24T02:09:05.251671",
   "environment_variables": {},
   "exception": null,
   "input_path": "__notebook__.ipynb",
   "output_path": "__notebook__.ipynb",
   "parameters": {},
   "start_time": "2025-08-23T22:16:22.855525",
   "version": "2.6.0"
  },
  "widgets": {
   "application/vnd.jupyter.widget-state+json": {
    "state": {
     "0390051482b340ae9df2610db16a4bb7": {
      "model_module": "@jupyter-widgets/base",
      "model_module_version": "2.0.0",
      "model_name": "LayoutModel",
      "state": {
       "_model_module": "@jupyter-widgets/base",
       "_model_module_version": "2.0.0",
       "_model_name": "LayoutModel",
       "_view_count": null,
       "_view_module": "@jupyter-widgets/base",
       "_view_module_version": "2.0.0",
       "_view_name": "LayoutView",
       "align_content": null,
       "align_items": null,
       "align_self": null,
       "border_bottom": null,
       "border_left": null,
       "border_right": null,
       "border_top": null,
       "bottom": null,
       "display": null,
       "flex": null,
       "flex_flow": null,
       "grid_area": null,
       "grid_auto_columns": null,
       "grid_auto_flow": null,
       "grid_auto_rows": null,
       "grid_column": null,
       "grid_gap": null,
       "grid_row": null,
       "grid_template_areas": null,
       "grid_template_columns": null,
       "grid_template_rows": null,
       "height": null,
       "justify_content": null,
       "justify_items": null,
       "left": null,
       "margin": null,
       "max_height": null,
       "max_width": null,
       "min_height": null,
       "min_width": null,
       "object_fit": null,
       "object_position": null,
       "order": null,
       "overflow": null,
       "padding": null,
       "right": null,
       "top": null,
       "visibility": null,
       "width": null
      }
     },
     "0839c595c1184042b537799a9a129eb0": {
      "model_module": "@jupyter-widgets/controls",
      "model_module_version": "2.0.0",
      "model_name": "HTMLStyleModel",
      "state": {
       "_model_module": "@jupyter-widgets/controls",
       "_model_module_version": "2.0.0",
       "_model_name": "HTMLStyleModel",
       "_view_count": null,
       "_view_module": "@jupyter-widgets/base",
       "_view_module_version": "2.0.0",
       "_view_name": "StyleView",
       "background": null,
       "description_width": "",
       "font_size": null,
       "text_color": null
      }
     },
     "0f94847b30ad44139c4577e03e020513": {
      "model_module": "@jupyter-widgets/controls",
      "model_module_version": "2.0.0",
      "model_name": "HTMLModel",
      "state": {
       "_dom_classes": [],
       "_model_module": "@jupyter-widgets/controls",
       "_model_module_version": "2.0.0",
       "_model_name": "HTMLModel",
       "_view_count": null,
       "_view_module": "@jupyter-widgets/controls",
       "_view_module_version": "2.0.0",
       "_view_name": "HTMLView",
       "description": "",
       "description_allow_html": false,
       "layout": "IPY_MODEL_9fb7043e035d4fe286fac776c1c1cec0",
       "placeholder": "​",
       "style": "IPY_MODEL_a8a5f551fd11497d987dd67a052b26f2",
       "tabbable": null,
       "tooltip": null,
       "value": "Map: 100%"
      }
     },
     "1862c77196b143f591df13ccc398d610": {
      "model_module": "@jupyter-widgets/base",
      "model_module_version": "2.0.0",
      "model_name": "LayoutModel",
      "state": {
       "_model_module": "@jupyter-widgets/base",
       "_model_module_version": "2.0.0",
       "_model_name": "LayoutModel",
       "_view_count": null,
       "_view_module": "@jupyter-widgets/base",
       "_view_module_version": "2.0.0",
       "_view_name": "LayoutView",
       "align_content": null,
       "align_items": null,
       "align_self": null,
       "border_bottom": null,
       "border_left": null,
       "border_right": null,
       "border_top": null,
       "bottom": null,
       "display": null,
       "flex": null,
       "flex_flow": null,
       "grid_area": null,
       "grid_auto_columns": null,
       "grid_auto_flow": null,
       "grid_auto_rows": null,
       "grid_column": null,
       "grid_gap": null,
       "grid_row": null,
       "grid_template_areas": null,
       "grid_template_columns": null,
       "grid_template_rows": null,
       "height": null,
       "justify_content": null,
       "justify_items": null,
       "left": null,
       "margin": null,
       "max_height": null,
       "max_width": null,
       "min_height": null,
       "min_width": null,
       "object_fit": null,
       "object_position": null,
       "order": null,
       "overflow": null,
       "padding": null,
       "right": null,
       "top": null,
       "visibility": null,
       "width": null
      }
     },
     "26b000c2412a416585875fe4da2e0f3a": {
      "model_module": "@jupyter-widgets/controls",
      "model_module_version": "2.0.0",
      "model_name": "HBoxModel",
      "state": {
       "_dom_classes": [],
       "_model_module": "@jupyter-widgets/controls",
       "_model_module_version": "2.0.0",
       "_model_name": "HBoxModel",
       "_view_count": null,
       "_view_module": "@jupyter-widgets/controls",
       "_view_module_version": "2.0.0",
       "_view_name": "HBoxView",
       "box_style": "",
       "children": [
        "IPY_MODEL_0f94847b30ad44139c4577e03e020513",
        "IPY_MODEL_99f2f543d4014af89ca06f81938cfc47",
        "IPY_MODEL_9a4b42f2e0df4ea5bed1ff4b449454d9"
       ],
       "layout": "IPY_MODEL_b2ca57ab10b747b791fa7ebb8b01d43e",
       "tabbable": null,
       "tooltip": null
      }
     },
     "34abd7a0d9a743be849bb9717e912882": {
      "model_module": "@jupyter-widgets/controls",
      "model_module_version": "2.0.0",
      "model_name": "FloatProgressModel",
      "state": {
       "_dom_classes": [],
       "_model_module": "@jupyter-widgets/controls",
       "_model_module_version": "2.0.0",
       "_model_name": "FloatProgressModel",
       "_view_count": null,
       "_view_module": "@jupyter-widgets/controls",
       "_view_module_version": "2.0.0",
       "_view_name": "ProgressView",
       "bar_style": "success",
       "description": "",
       "description_allow_html": false,
       "layout": "IPY_MODEL_7bb07c629e8c408182d297f9df9e2c26",
       "max": 29356.0,
       "min": 0.0,
       "orientation": "horizontal",
       "style": "IPY_MODEL_54448f3cd70c4416a96eb3a5f5355367",
       "tabbable": null,
       "tooltip": null,
       "value": 29356.0
      }
     },
     "3aa901c8fd234469b6f0a67caf554167": {
      "model_module": "@jupyter-widgets/controls",
      "model_module_version": "2.0.0",
      "model_name": "HTMLModel",
      "state": {
       "_dom_classes": [],
       "_model_module": "@jupyter-widgets/controls",
       "_model_module_version": "2.0.0",
       "_model_name": "HTMLModel",
       "_view_count": null,
       "_view_module": "@jupyter-widgets/controls",
       "_view_module_version": "2.0.0",
       "_view_name": "HTMLView",
       "description": "",
       "description_allow_html": false,
       "layout": "IPY_MODEL_3f2055e69ec7455587b9872bc0cbfafe",
       "placeholder": "​",
       "style": "IPY_MODEL_c888bd7c89254868ac3624cac806ec39",
       "tabbable": null,
       "tooltip": null,
       "value": "Map: 100%"
      }
     },
     "3ce74d643bdb4f2cbc520f5163da36f7": {
      "model_module": "@jupyter-widgets/controls",
      "model_module_version": "2.0.0",
      "model_name": "HTMLModel",
      "state": {
       "_dom_classes": [],
       "_model_module": "@jupyter-widgets/controls",
       "_model_module_version": "2.0.0",
       "_model_name": "HTMLModel",
       "_view_count": null,
       "_view_module": "@jupyter-widgets/controls",
       "_view_module_version": "2.0.0",
       "_view_name": "HTMLView",
       "description": "",
       "description_allow_html": false,
       "layout": "IPY_MODEL_f4cb7519ec75423d8fbe27e547e9068c",
       "placeholder": "​",
       "style": "IPY_MODEL_fd7046fb509241b68b03d25d8c9cecfe",
       "tabbable": null,
       "tooltip": null,
       "value": " 29356/29356 [00:06&lt;00:00, 4266.59 examples/s]"
      }
     },
     "3d02a55ddf86432ab32017cf39c79b69": {
      "model_module": "@jupyter-widgets/controls",
      "model_module_version": "2.0.0",
      "model_name": "HBoxModel",
      "state": {
       "_dom_classes": [],
       "_model_module": "@jupyter-widgets/controls",
       "_model_module_version": "2.0.0",
       "_model_name": "HBoxModel",
       "_view_count": null,
       "_view_module": "@jupyter-widgets/controls",
       "_view_module_version": "2.0.0",
       "_view_name": "HBoxView",
       "box_style": "",
       "children": [
        "IPY_MODEL_ed993ff394cb42dd90dce10bb7a77474",
        "IPY_MODEL_db7e4fb498054d9cbf38e1dec6937029",
        "IPY_MODEL_d16d2506472046d5b51906937b9ed4cb"
       ],
       "layout": "IPY_MODEL_d2f13d173ea24c20b471c5f127b7343f",
       "tabbable": null,
       "tooltip": null
      }
     },
     "3f2055e69ec7455587b9872bc0cbfafe": {
      "model_module": "@jupyter-widgets/base",
      "model_module_version": "2.0.0",
      "model_name": "LayoutModel",
      "state": {
       "_model_module": "@jupyter-widgets/base",
       "_model_module_version": "2.0.0",
       "_model_name": "LayoutModel",
       "_view_count": null,
       "_view_module": "@jupyter-widgets/base",
       "_view_module_version": "2.0.0",
       "_view_name": "LayoutView",
       "align_content": null,
       "align_items": null,
       "align_self": null,
       "border_bottom": null,
       "border_left": null,
       "border_right": null,
       "border_top": null,
       "bottom": null,
       "display": null,
       "flex": null,
       "flex_flow": null,
       "grid_area": null,
       "grid_auto_columns": null,
       "grid_auto_flow": null,
       "grid_auto_rows": null,
       "grid_column": null,
       "grid_gap": null,
       "grid_row": null,
       "grid_template_areas": null,
       "grid_template_columns": null,
       "grid_template_rows": null,
       "height": null,
       "justify_content": null,
       "justify_items": null,
       "left": null,
       "margin": null,
       "max_height": null,
       "max_width": null,
       "min_height": null,
       "min_width": null,
       "object_fit": null,
       "object_position": null,
       "order": null,
       "overflow": null,
       "padding": null,
       "right": null,
       "top": null,
       "visibility": null,
       "width": null
      }
     },
     "45c36210b0fe4cd2aff1ac715145318a": {
      "model_module": "@jupyter-widgets/base",
      "model_module_version": "2.0.0",
      "model_name": "LayoutModel",
      "state": {
       "_model_module": "@jupyter-widgets/base",
       "_model_module_version": "2.0.0",
       "_model_name": "LayoutModel",
       "_view_count": null,
       "_view_module": "@jupyter-widgets/base",
       "_view_module_version": "2.0.0",
       "_view_name": "LayoutView",
       "align_content": null,
       "align_items": null,
       "align_self": null,
       "border_bottom": null,
       "border_left": null,
       "border_right": null,
       "border_top": null,
       "bottom": null,
       "display": null,
       "flex": null,
       "flex_flow": null,
       "grid_area": null,
       "grid_auto_columns": null,
       "grid_auto_flow": null,
       "grid_auto_rows": null,
       "grid_column": null,
       "grid_gap": null,
       "grid_row": null,
       "grid_template_areas": null,
       "grid_template_columns": null,
       "grid_template_rows": null,
       "height": null,
       "justify_content": null,
       "justify_items": null,
       "left": null,
       "margin": null,
       "max_height": null,
       "max_width": null,
       "min_height": null,
       "min_width": null,
       "object_fit": null,
       "object_position": null,
       "order": null,
       "overflow": null,
       "padding": null,
       "right": null,
       "top": null,
       "visibility": null,
       "width": null
      }
     },
     "54448f3cd70c4416a96eb3a5f5355367": {
      "model_module": "@jupyter-widgets/controls",
      "model_module_version": "2.0.0",
      "model_name": "ProgressStyleModel",
      "state": {
       "_model_module": "@jupyter-widgets/controls",
       "_model_module_version": "2.0.0",
       "_model_name": "ProgressStyleModel",
       "_view_count": null,
       "_view_module": "@jupyter-widgets/base",
       "_view_module_version": "2.0.0",
       "_view_name": "StyleView",
       "bar_color": null,
       "description_width": ""
      }
     },
     "5cb34417fd734b0483f08e83cf0eced8": {
      "model_module": "@jupyter-widgets/controls",
      "model_module_version": "2.0.0",
      "model_name": "ProgressStyleModel",
      "state": {
       "_model_module": "@jupyter-widgets/controls",
       "_model_module_version": "2.0.0",
       "_model_name": "ProgressStyleModel",
       "_view_count": null,
       "_view_module": "@jupyter-widgets/base",
       "_view_module_version": "2.0.0",
       "_view_name": "StyleView",
       "bar_color": null,
       "description_width": ""
      }
     },
     "5d66832008fe49909378a566a83806c4": {
      "model_module": "@jupyter-widgets/controls",
      "model_module_version": "2.0.0",
      "model_name": "HTMLStyleModel",
      "state": {
       "_model_module": "@jupyter-widgets/controls",
       "_model_module_version": "2.0.0",
       "_model_name": "HTMLStyleModel",
       "_view_count": null,
       "_view_module": "@jupyter-widgets/base",
       "_view_module_version": "2.0.0",
       "_view_name": "StyleView",
       "background": null,
       "description_width": "",
       "font_size": null,
       "text_color": null
      }
     },
     "766581025d8f4ace859bc37357bc52d4": {
      "model_module": "@jupyter-widgets/controls",
      "model_module_version": "2.0.0",
      "model_name": "HBoxModel",
      "state": {
       "_dom_classes": [],
       "_model_module": "@jupyter-widgets/controls",
       "_model_module_version": "2.0.0",
       "_model_name": "HBoxModel",
       "_view_count": null,
       "_view_module": "@jupyter-widgets/controls",
       "_view_module_version": "2.0.0",
       "_view_name": "HBoxView",
       "box_style": "",
       "children": [
        "IPY_MODEL_3aa901c8fd234469b6f0a67caf554167",
        "IPY_MODEL_34abd7a0d9a743be849bb9717e912882",
        "IPY_MODEL_3ce74d643bdb4f2cbc520f5163da36f7"
       ],
       "layout": "IPY_MODEL_bb28c1b54a3c4f5a99302af7bfccb7cd",
       "tabbable": null,
       "tooltip": null
      }
     },
     "7bb07c629e8c408182d297f9df9e2c26": {
      "model_module": "@jupyter-widgets/base",
      "model_module_version": "2.0.0",
      "model_name": "LayoutModel",
      "state": {
       "_model_module": "@jupyter-widgets/base",
       "_model_module_version": "2.0.0",
       "_model_name": "LayoutModel",
       "_view_count": null,
       "_view_module": "@jupyter-widgets/base",
       "_view_module_version": "2.0.0",
       "_view_name": "LayoutView",
       "align_content": null,
       "align_items": null,
       "align_self": null,
       "border_bottom": null,
       "border_left": null,
       "border_right": null,
       "border_top": null,
       "bottom": null,
       "display": null,
       "flex": null,
       "flex_flow": null,
       "grid_area": null,
       "grid_auto_columns": null,
       "grid_auto_flow": null,
       "grid_auto_rows": null,
       "grid_column": null,
       "grid_gap": null,
       "grid_row": null,
       "grid_template_areas": null,
       "grid_template_columns": null,
       "grid_template_rows": null,
       "height": null,
       "justify_content": null,
       "justify_items": null,
       "left": null,
       "margin": null,
       "max_height": null,
       "max_width": null,
       "min_height": null,
       "min_width": null,
       "object_fit": null,
       "object_position": null,
       "order": null,
       "overflow": null,
       "padding": null,
       "right": null,
       "top": null,
       "visibility": null,
       "width": null
      }
     },
     "939fc4e13cc742829fdde34aa9d08974": {
      "model_module": "@jupyter-widgets/base",
      "model_module_version": "2.0.0",
      "model_name": "LayoutModel",
      "state": {
       "_model_module": "@jupyter-widgets/base",
       "_model_module_version": "2.0.0",
       "_model_name": "LayoutModel",
       "_view_count": null,
       "_view_module": "@jupyter-widgets/base",
       "_view_module_version": "2.0.0",
       "_view_name": "LayoutView",
       "align_content": null,
       "align_items": null,
       "align_self": null,
       "border_bottom": null,
       "border_left": null,
       "border_right": null,
       "border_top": null,
       "bottom": null,
       "display": null,
       "flex": null,
       "flex_flow": null,
       "grid_area": null,
       "grid_auto_columns": null,
       "grid_auto_flow": null,
       "grid_auto_rows": null,
       "grid_column": null,
       "grid_gap": null,
       "grid_row": null,
       "grid_template_areas": null,
       "grid_template_columns": null,
       "grid_template_rows": null,
       "height": null,
       "justify_content": null,
       "justify_items": null,
       "left": null,
       "margin": null,
       "max_height": null,
       "max_width": null,
       "min_height": null,
       "min_width": null,
       "object_fit": null,
       "object_position": null,
       "order": null,
       "overflow": null,
       "padding": null,
       "right": null,
       "top": null,
       "visibility": null,
       "width": null
      }
     },
     "99f2f543d4014af89ca06f81938cfc47": {
      "model_module": "@jupyter-widgets/controls",
      "model_module_version": "2.0.0",
      "model_name": "FloatProgressModel",
      "state": {
       "_dom_classes": [],
       "_model_module": "@jupyter-widgets/controls",
       "_model_module_version": "2.0.0",
       "_model_name": "FloatProgressModel",
       "_view_count": null,
       "_view_module": "@jupyter-widgets/controls",
       "_view_module_version": "2.0.0",
       "_view_name": "ProgressView",
       "bar_style": "success",
       "description": "",
       "description_allow_html": false,
       "layout": "IPY_MODEL_45c36210b0fe4cd2aff1ac715145318a",
       "max": 29356.0,
       "min": 0.0,
       "orientation": "horizontal",
       "style": "IPY_MODEL_ed5d72dc68614ff699861c2d0d884f60",
       "tabbable": null,
       "tooltip": null,
       "value": 29356.0
      }
     },
     "9a4b42f2e0df4ea5bed1ff4b449454d9": {
      "model_module": "@jupyter-widgets/controls",
      "model_module_version": "2.0.0",
      "model_name": "HTMLModel",
      "state": {
       "_dom_classes": [],
       "_model_module": "@jupyter-widgets/controls",
       "_model_module_version": "2.0.0",
       "_model_name": "HTMLModel",
       "_view_count": null,
       "_view_module": "@jupyter-widgets/controls",
       "_view_module_version": "2.0.0",
       "_view_name": "HTMLView",
       "description": "",
       "description_allow_html": false,
       "layout": "IPY_MODEL_0390051482b340ae9df2610db16a4bb7",
       "placeholder": "​",
       "style": "IPY_MODEL_bd0a2ae1351b4643a1ff033b3002888a",
       "tabbable": null,
       "tooltip": null,
       "value": " 29356/29356 [00:06&lt;00:00, 4808.70 examples/s]"
      }
     },
     "9fb7043e035d4fe286fac776c1c1cec0": {
      "model_module": "@jupyter-widgets/base",
      "model_module_version": "2.0.0",
      "model_name": "LayoutModel",
      "state": {
       "_model_module": "@jupyter-widgets/base",
       "_model_module_version": "2.0.0",
       "_model_name": "LayoutModel",
       "_view_count": null,
       "_view_module": "@jupyter-widgets/base",
       "_view_module_version": "2.0.0",
       "_view_name": "LayoutView",
       "align_content": null,
       "align_items": null,
       "align_self": null,
       "border_bottom": null,
       "border_left": null,
       "border_right": null,
       "border_top": null,
       "bottom": null,
       "display": null,
       "flex": null,
       "flex_flow": null,
       "grid_area": null,
       "grid_auto_columns": null,
       "grid_auto_flow": null,
       "grid_auto_rows": null,
       "grid_column": null,
       "grid_gap": null,
       "grid_row": null,
       "grid_template_areas": null,
       "grid_template_columns": null,
       "grid_template_rows": null,
       "height": null,
       "justify_content": null,
       "justify_items": null,
       "left": null,
       "margin": null,
       "max_height": null,
       "max_width": null,
       "min_height": null,
       "min_width": null,
       "object_fit": null,
       "object_position": null,
       "order": null,
       "overflow": null,
       "padding": null,
       "right": null,
       "top": null,
       "visibility": null,
       "width": null
      }
     },
     "a8a5f551fd11497d987dd67a052b26f2": {
      "model_module": "@jupyter-widgets/controls",
      "model_module_version": "2.0.0",
      "model_name": "HTMLStyleModel",
      "state": {
       "_model_module": "@jupyter-widgets/controls",
       "_model_module_version": "2.0.0",
       "_model_name": "HTMLStyleModel",
       "_view_count": null,
       "_view_module": "@jupyter-widgets/base",
       "_view_module_version": "2.0.0",
       "_view_name": "StyleView",
       "background": null,
       "description_width": "",
       "font_size": null,
       "text_color": null
      }
     },
     "b2ca57ab10b747b791fa7ebb8b01d43e": {
      "model_module": "@jupyter-widgets/base",
      "model_module_version": "2.0.0",
      "model_name": "LayoutModel",
      "state": {
       "_model_module": "@jupyter-widgets/base",
       "_model_module_version": "2.0.0",
       "_model_name": "LayoutModel",
       "_view_count": null,
       "_view_module": "@jupyter-widgets/base",
       "_view_module_version": "2.0.0",
       "_view_name": "LayoutView",
       "align_content": null,
       "align_items": null,
       "align_self": null,
       "border_bottom": null,
       "border_left": null,
       "border_right": null,
       "border_top": null,
       "bottom": null,
       "display": null,
       "flex": null,
       "flex_flow": null,
       "grid_area": null,
       "grid_auto_columns": null,
       "grid_auto_flow": null,
       "grid_auto_rows": null,
       "grid_column": null,
       "grid_gap": null,
       "grid_row": null,
       "grid_template_areas": null,
       "grid_template_columns": null,
       "grid_template_rows": null,
       "height": null,
       "justify_content": null,
       "justify_items": null,
       "left": null,
       "margin": null,
       "max_height": null,
       "max_width": null,
       "min_height": null,
       "min_width": null,
       "object_fit": null,
       "object_position": null,
       "order": null,
       "overflow": null,
       "padding": null,
       "right": null,
       "top": null,
       "visibility": null,
       "width": null
      }
     },
     "bb28c1b54a3c4f5a99302af7bfccb7cd": {
      "model_module": "@jupyter-widgets/base",
      "model_module_version": "2.0.0",
      "model_name": "LayoutModel",
      "state": {
       "_model_module": "@jupyter-widgets/base",
       "_model_module_version": "2.0.0",
       "_model_name": "LayoutModel",
       "_view_count": null,
       "_view_module": "@jupyter-widgets/base",
       "_view_module_version": "2.0.0",
       "_view_name": "LayoutView",
       "align_content": null,
       "align_items": null,
       "align_self": null,
       "border_bottom": null,
       "border_left": null,
       "border_right": null,
       "border_top": null,
       "bottom": null,
       "display": null,
       "flex": null,
       "flex_flow": null,
       "grid_area": null,
       "grid_auto_columns": null,
       "grid_auto_flow": null,
       "grid_auto_rows": null,
       "grid_column": null,
       "grid_gap": null,
       "grid_row": null,
       "grid_template_areas": null,
       "grid_template_columns": null,
       "grid_template_rows": null,
       "height": null,
       "justify_content": null,
       "justify_items": null,
       "left": null,
       "margin": null,
       "max_height": null,
       "max_width": null,
       "min_height": null,
       "min_width": null,
       "object_fit": null,
       "object_position": null,
       "order": null,
       "overflow": null,
       "padding": null,
       "right": null,
       "top": null,
       "visibility": null,
       "width": null
      }
     },
     "bd0a2ae1351b4643a1ff033b3002888a": {
      "model_module": "@jupyter-widgets/controls",
      "model_module_version": "2.0.0",
      "model_name": "HTMLStyleModel",
      "state": {
       "_model_module": "@jupyter-widgets/controls",
       "_model_module_version": "2.0.0",
       "_model_name": "HTMLStyleModel",
       "_view_count": null,
       "_view_module": "@jupyter-widgets/base",
       "_view_module_version": "2.0.0",
       "_view_name": "StyleView",
       "background": null,
       "description_width": "",
       "font_size": null,
       "text_color": null
      }
     },
     "c888bd7c89254868ac3624cac806ec39": {
      "model_module": "@jupyter-widgets/controls",
      "model_module_version": "2.0.0",
      "model_name": "HTMLStyleModel",
      "state": {
       "_model_module": "@jupyter-widgets/controls",
       "_model_module_version": "2.0.0",
       "_model_name": "HTMLStyleModel",
       "_view_count": null,
       "_view_module": "@jupyter-widgets/base",
       "_view_module_version": "2.0.0",
       "_view_name": "StyleView",
       "background": null,
       "description_width": "",
       "font_size": null,
       "text_color": null
      }
     },
     "d16d2506472046d5b51906937b9ed4cb": {
      "model_module": "@jupyter-widgets/controls",
      "model_module_version": "2.0.0",
      "model_name": "HTMLModel",
      "state": {
       "_dom_classes": [],
       "_model_module": "@jupyter-widgets/controls",
       "_model_module_version": "2.0.0",
       "_model_name": "HTMLModel",
       "_view_count": null,
       "_view_module": "@jupyter-widgets/controls",
       "_view_module_version": "2.0.0",
       "_view_name": "HTMLView",
       "description": "",
       "description_allow_html": false,
       "layout": "IPY_MODEL_ff528f3b149740f9afe375a41c53b938",
       "placeholder": "​",
       "style": "IPY_MODEL_5d66832008fe49909378a566a83806c4",
       "tabbable": null,
       "tooltip": null,
       "value": " 3/3 [00:00&lt;00:00, 86.22 examples/s]"
      }
     },
     "d2f13d173ea24c20b471c5f127b7343f": {
      "model_module": "@jupyter-widgets/base",
      "model_module_version": "2.0.0",
      "model_name": "LayoutModel",
      "state": {
       "_model_module": "@jupyter-widgets/base",
       "_model_module_version": "2.0.0",
       "_model_name": "LayoutModel",
       "_view_count": null,
       "_view_module": "@jupyter-widgets/base",
       "_view_module_version": "2.0.0",
       "_view_name": "LayoutView",
       "align_content": null,
       "align_items": null,
       "align_self": null,
       "border_bottom": null,
       "border_left": null,
       "border_right": null,
       "border_top": null,
       "bottom": null,
       "display": null,
       "flex": null,
       "flex_flow": null,
       "grid_area": null,
       "grid_auto_columns": null,
       "grid_auto_flow": null,
       "grid_auto_rows": null,
       "grid_column": null,
       "grid_gap": null,
       "grid_row": null,
       "grid_template_areas": null,
       "grid_template_columns": null,
       "grid_template_rows": null,
       "height": null,
       "justify_content": null,
       "justify_items": null,
       "left": null,
       "margin": null,
       "max_height": null,
       "max_width": null,
       "min_height": null,
       "min_width": null,
       "object_fit": null,
       "object_position": null,
       "order": null,
       "overflow": null,
       "padding": null,
       "right": null,
       "top": null,
       "visibility": null,
       "width": null
      }
     },
     "db7e4fb498054d9cbf38e1dec6937029": {
      "model_module": "@jupyter-widgets/controls",
      "model_module_version": "2.0.0",
      "model_name": "FloatProgressModel",
      "state": {
       "_dom_classes": [],
       "_model_module": "@jupyter-widgets/controls",
       "_model_module_version": "2.0.0",
       "_model_name": "FloatProgressModel",
       "_view_count": null,
       "_view_module": "@jupyter-widgets/controls",
       "_view_module_version": "2.0.0",
       "_view_name": "ProgressView",
       "bar_style": "success",
       "description": "",
       "description_allow_html": false,
       "layout": "IPY_MODEL_939fc4e13cc742829fdde34aa9d08974",
       "max": 3.0,
       "min": 0.0,
       "orientation": "horizontal",
       "style": "IPY_MODEL_5cb34417fd734b0483f08e83cf0eced8",
       "tabbable": null,
       "tooltip": null,
       "value": 3.0
      }
     },
     "ed5d72dc68614ff699861c2d0d884f60": {
      "model_module": "@jupyter-widgets/controls",
      "model_module_version": "2.0.0",
      "model_name": "ProgressStyleModel",
      "state": {
       "_model_module": "@jupyter-widgets/controls",
       "_model_module_version": "2.0.0",
       "_model_name": "ProgressStyleModel",
       "_view_count": null,
       "_view_module": "@jupyter-widgets/base",
       "_view_module_version": "2.0.0",
       "_view_name": "StyleView",
       "bar_color": null,
       "description_width": ""
      }
     },
     "ed993ff394cb42dd90dce10bb7a77474": {
      "model_module": "@jupyter-widgets/controls",
      "model_module_version": "2.0.0",
      "model_name": "HTMLModel",
      "state": {
       "_dom_classes": [],
       "_model_module": "@jupyter-widgets/controls",
       "_model_module_version": "2.0.0",
       "_model_name": "HTMLModel",
       "_view_count": null,
       "_view_module": "@jupyter-widgets/controls",
       "_view_module_version": "2.0.0",
       "_view_name": "HTMLView",
       "description": "",
       "description_allow_html": false,
       "layout": "IPY_MODEL_1862c77196b143f591df13ccc398d610",
       "placeholder": "​",
       "style": "IPY_MODEL_0839c595c1184042b537799a9a129eb0",
       "tabbable": null,
       "tooltip": null,
       "value": "Map: 100%"
      }
     },
     "f4cb7519ec75423d8fbe27e547e9068c": {
      "model_module": "@jupyter-widgets/base",
      "model_module_version": "2.0.0",
      "model_name": "LayoutModel",
      "state": {
       "_model_module": "@jupyter-widgets/base",
       "_model_module_version": "2.0.0",
       "_model_name": "LayoutModel",
       "_view_count": null,
       "_view_module": "@jupyter-widgets/base",
       "_view_module_version": "2.0.0",
       "_view_name": "LayoutView",
       "align_content": null,
       "align_items": null,
       "align_self": null,
       "border_bottom": null,
       "border_left": null,
       "border_right": null,
       "border_top": null,
       "bottom": null,
       "display": null,
       "flex": null,
       "flex_flow": null,
       "grid_area": null,
       "grid_auto_columns": null,
       "grid_auto_flow": null,
       "grid_auto_rows": null,
       "grid_column": null,
       "grid_gap": null,
       "grid_row": null,
       "grid_template_areas": null,
       "grid_template_columns": null,
       "grid_template_rows": null,
       "height": null,
       "justify_content": null,
       "justify_items": null,
       "left": null,
       "margin": null,
       "max_height": null,
       "max_width": null,
       "min_height": null,
       "min_width": null,
       "object_fit": null,
       "object_position": null,
       "order": null,
       "overflow": null,
       "padding": null,
       "right": null,
       "top": null,
       "visibility": null,
       "width": null
      }
     },
     "fd7046fb509241b68b03d25d8c9cecfe": {
      "model_module": "@jupyter-widgets/controls",
      "model_module_version": "2.0.0",
      "model_name": "HTMLStyleModel",
      "state": {
       "_model_module": "@jupyter-widgets/controls",
       "_model_module_version": "2.0.0",
       "_model_name": "HTMLStyleModel",
       "_view_count": null,
       "_view_module": "@jupyter-widgets/base",
       "_view_module_version": "2.0.0",
       "_view_name": "StyleView",
       "background": null,
       "description_width": "",
       "font_size": null,
       "text_color": null
      }
     },
     "ff528f3b149740f9afe375a41c53b938": {
      "model_module": "@jupyter-widgets/base",
      "model_module_version": "2.0.0",
      "model_name": "LayoutModel",
      "state": {
       "_model_module": "@jupyter-widgets/base",
       "_model_module_version": "2.0.0",
       "_model_name": "LayoutModel",
       "_view_count": null,
       "_view_module": "@jupyter-widgets/base",
       "_view_module_version": "2.0.0",
       "_view_name": "LayoutView",
       "align_content": null,
       "align_items": null,
       "align_self": null,
       "border_bottom": null,
       "border_left": null,
       "border_right": null,
       "border_top": null,
       "bottom": null,
       "display": null,
       "flex": null,
       "flex_flow": null,
       "grid_area": null,
       "grid_auto_columns": null,
       "grid_auto_flow": null,
       "grid_auto_rows": null,
       "grid_column": null,
       "grid_gap": null,
       "grid_row": null,
       "grid_template_areas": null,
       "grid_template_columns": null,
       "grid_template_rows": null,
       "height": null,
       "justify_content": null,
       "justify_items": null,
       "left": null,
       "margin": null,
       "max_height": null,
       "max_width": null,
       "min_height": null,
       "min_width": null,
       "object_fit": null,
       "object_position": null,
       "order": null,
       "overflow": null,
       "padding": null,
       "right": null,
       "top": null,
       "visibility": null,
       "width": null
      }
     }
    },
    "version_major": 2,
    "version_minor": 0
   }
  }
 },
 "nbformat": 4,
 "nbformat_minor": 5
}
